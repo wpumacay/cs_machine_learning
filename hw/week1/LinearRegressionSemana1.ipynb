{
 "cells": [
  {
   "cell_type": "markdown",
   "metadata": {},
   "source": [
    "# Linear Regression Practice"
   ]
  },
  {
   "cell_type": "markdown",
   "metadata": {},
   "source": [
    "Adapted from http://www.ritchieng.com/machine-learning-linear-regression/"
   ]
  },
  {
   "cell_type": "markdown",
   "metadata": {},
   "source": [
    "## 1. Reading Data using Panda"
   ]
  },
  {
   "cell_type": "code",
   "execution_count": 1,
   "metadata": {
    "collapsed": true
   },
   "outputs": [],
   "source": [
    "# conventional way to import pandas\n",
    "import pandas as pd"
   ]
  },
  {
   "cell_type": "code",
   "execution_count": 2,
   "metadata": {},
   "outputs": [
    {
     "name": "stdout",
     "output_type": "stream",
     "text": [
      "1      230.1\n",
      "2       44.5\n",
      "3       17.2\n",
      "4      151.5\n",
      "5      180.8\n",
      "6        8.7\n",
      "7       57.5\n",
      "8      120.2\n",
      "9        8.6\n",
      "10     199.8\n",
      "11      66.1\n",
      "12     214.7\n",
      "13      23.8\n",
      "14      97.5\n",
      "15     204.1\n",
      "16     195.4\n",
      "17      67.8\n",
      "18     281.4\n",
      "19      69.2\n",
      "20     147.3\n",
      "21     218.4\n",
      "22     237.4\n",
      "23      13.2\n",
      "24     228.3\n",
      "25      62.3\n",
      "26     262.9\n",
      "27     142.9\n",
      "28     240.1\n",
      "29     248.8\n",
      "30      70.6\n",
      "       ...  \n",
      "171     50.0\n",
      "172    164.5\n",
      "173     19.6\n",
      "174    168.4\n",
      "175    222.4\n",
      "176    276.9\n",
      "177    248.4\n",
      "178    170.2\n",
      "179    276.7\n",
      "180    165.6\n",
      "181    156.6\n",
      "182    218.5\n",
      "183     56.2\n",
      "184    287.6\n",
      "185    253.8\n",
      "186    205.0\n",
      "187    139.5\n",
      "188    191.1\n",
      "189    286.0\n",
      "190     18.7\n",
      "191     39.5\n",
      "192     75.5\n",
      "193     17.2\n",
      "194    166.8\n",
      "195    149.7\n",
      "196     38.2\n",
      "197     94.2\n",
      "198    177.0\n",
      "199    283.6\n",
      "200    232.1\n",
      "Name: TV, Length: 200, dtype: float64\n"
     ]
    }
   ],
   "source": [
    "# read CSV file directly from a URL and save the results\n",
    "# use .read_csv method and simply pass in the name of the files (local and through a url)\n",
    "# to find out more about this method, click on the url and press shift + tab (twice)\n",
    "# we set the index_col=0\n",
    "data = pd.read_csv( 'http://www-bcf.usc.edu/~gareth/ISL/Advertising.csv', index_col=0 )\n",
    "\n",
    "# display the first 5 rows\n",
    "#data.head()\n",
    "#data['TV'].head()\n",
    "print( data['TV'] )\n",
    "\n",
    "_x_tv = []\n",
    "\n",
    "for e in data['TV'] :\n",
    "    _x_tv.append( e )\n",
    "    \n",
    "#print( _x_tv )"
   ]
  },
  {
   "cell_type": "code",
   "execution_count": 3,
   "metadata": {},
   "outputs": [
    {
     "data": {
      "text/html": [
       "<div>\n",
       "<style>\n",
       "    .dataframe thead tr:only-child th {\n",
       "        text-align: right;\n",
       "    }\n",
       "\n",
       "    .dataframe thead th {\n",
       "        text-align: left;\n",
       "    }\n",
       "\n",
       "    .dataframe tbody tr th {\n",
       "        vertical-align: top;\n",
       "    }\n",
       "</style>\n",
       "<table border=\"1\" class=\"dataframe\">\n",
       "  <thead>\n",
       "    <tr style=\"text-align: right;\">\n",
       "      <th></th>\n",
       "      <th>TV</th>\n",
       "      <th>radio</th>\n",
       "      <th>newspaper</th>\n",
       "      <th>sales</th>\n",
       "    </tr>\n",
       "  </thead>\n",
       "  <tbody>\n",
       "    <tr>\n",
       "      <th>1</th>\n",
       "      <td>230.1</td>\n",
       "      <td>37.8</td>\n",
       "      <td>69.2</td>\n",
       "      <td>22.1</td>\n",
       "    </tr>\n",
       "    <tr>\n",
       "      <th>2</th>\n",
       "      <td>44.5</td>\n",
       "      <td>39.3</td>\n",
       "      <td>45.1</td>\n",
       "      <td>10.4</td>\n",
       "    </tr>\n",
       "    <tr>\n",
       "      <th>3</th>\n",
       "      <td>17.2</td>\n",
       "      <td>45.9</td>\n",
       "      <td>69.3</td>\n",
       "      <td>9.3</td>\n",
       "    </tr>\n",
       "    <tr>\n",
       "      <th>4</th>\n",
       "      <td>151.5</td>\n",
       "      <td>41.3</td>\n",
       "      <td>58.5</td>\n",
       "      <td>18.5</td>\n",
       "    </tr>\n",
       "    <tr>\n",
       "      <th>5</th>\n",
       "      <td>180.8</td>\n",
       "      <td>10.8</td>\n",
       "      <td>58.4</td>\n",
       "      <td>12.9</td>\n",
       "    </tr>\n",
       "  </tbody>\n",
       "</table>\n",
       "</div>"
      ],
      "text/plain": [
       "      TV  radio  newspaper  sales\n",
       "1  230.1   37.8       69.2   22.1\n",
       "2   44.5   39.3       45.1   10.4\n",
       "3   17.2   45.9       69.3    9.3\n",
       "4  151.5   41.3       58.5   18.5\n",
       "5  180.8   10.8       58.4   12.9"
      ]
     },
     "execution_count": 3,
     "metadata": {},
     "output_type": "execute_result"
    }
   ],
   "source": [
    "# display the last 5 rows\n",
    "data.head()"
   ]
  },
  {
   "cell_type": "code",
   "execution_count": 4,
   "metadata": {},
   "outputs": [
    {
     "data": {
      "text/plain": [
       "(200, 4)"
      ]
     },
     "execution_count": 4,
     "metadata": {},
     "output_type": "execute_result"
    }
   ],
   "source": [
    "# check the shape of the DataFrame (rows, columns)\n",
    "# there are 200 rows x 4 columns\n",
    "data.shape"
   ]
  },
  {
   "cell_type": "markdown",
   "metadata": {},
   "source": [
    "What are the features?\n",
    "\n",
    "- **TV**: advertising dollars spent on TV for a single product in a given market (in thousands of dollars)\n",
    "- **Radio**: advertising dollars spent on Radio\n",
    "- **Newspaper**: advertising dollars spent on Newspaper\n",
    "What is the response?\n",
    "\n",
    "- **Sales**: sales of a single product in a given market (in thousands of items)\n",
    "\n",
    "What else do we know?\n",
    "\n",
    "Because the response variable is continuous, this is a **regression problem**.\n",
    "There are 200 observations (represented by the rows), and each observation is a single market.\n"
   ]
  },
  {
   "cell_type": "markdown",
   "metadata": {},
   "source": [
    "## 2. Visualizing Data"
   ]
  },
  {
   "cell_type": "markdown",
   "metadata": {},
   "source": [
    "- Seaborn: Python library for statistical data visualization built on top of Matplotlib\n",
    "- Anaconda users: run conda install seaborn from the command line"
   ]
  },
  {
   "cell_type": "code",
   "execution_count": 5,
   "metadata": {
    "collapsed": true
   },
   "outputs": [],
   "source": [
    "# conventional way to import seaborn\n",
    "import seaborn as sns\n",
    "\n",
    "# allow plots to appear within the notebook\n",
    "%matplotlib inline"
   ]
  },
  {
   "cell_type": "code",
   "execution_count": 6,
   "metadata": {},
   "outputs": [
    {
     "data": {
      "text/plain": [
       "<seaborn.axisgrid.PairGrid at 0x7f9438ef9e80>"
      ]
     },
     "execution_count": 6,
     "metadata": {},
     "output_type": "execute_result"
    },
    {
     "data": {
      "image/png": "[encoded data removed]",
      "text/plain": [
       "<matplotlib.figure.Figure at 0x7f9438ef9eb8>"
      ]
     },
     "metadata": {},
     "output_type": "display_data"
    }
   ],
   "source": [
    "# visualize the relationship between the features and the response using scatterplots\n",
    "# this produces pairs of scatterplot as shown\n",
    "# use aspect= to control the size of the graphs\n",
    "# use kind='reg' to plot linear regression on the graph\n",
    "sns.pairplot(data, x_vars=['TV', 'radio', 'newspaper'], y_vars='sales', size=7, aspect=0.7, kind='reg')"
   ]
  },
  {
   "cell_type": "markdown",
   "metadata": {
    "collapsed": true
   },
   "source": [
    "Linear regression\n",
    "- Strong relationship between TV ads and sales\n",
    "- Weak relationship between Radio ads and sales\n",
    "- Very weak to no relationship between Newspaper ads and sales"
   ]
  },
  {
   "cell_type": "markdown",
   "metadata": {},
   "source": [
    "## 3. Computing Linear Regression (Scikit-learn)"
   ]
  },
  {
   "cell_type": "markdown",
   "metadata": {},
   "source": [
    "## Form of linear regression\n",
    "$$y=\\theta_0+\\theta_1x_1+\\theta_2x_2+...+\\theta_nx_n$$\n",
    "- $y$  is the response\n",
    "- $\\theta_0$  is the intercept\n",
    "- In this case:\n",
    "$$y=\\theta_0+\\theta_1\\times TV+\\theta_2\\times Radio+\\theta_3 \\times Newspaper$$\n"
   ]
  },
  {
   "cell_type": "markdown",
   "metadata": {},
   "source": [
    "scikit-learn expects X (feature matrix) and y (response vector) to be NumPy arrays\n",
    "However, pandas is built on top of NumPy\n",
    "Thus, X can be a pandas DataFrame (matrix) and y can be a pandas Series (vector)"
   ]
  },
  {
   "cell_type": "code",
   "execution_count": 7,
   "metadata": {},
   "outputs": [
    {
     "data": {
      "text/html": [
       "<div>\n",
       "<style>\n",
       "    .dataframe thead tr:only-child th {\n",
       "        text-align: right;\n",
       "    }\n",
       "\n",
       "    .dataframe thead th {\n",
       "        text-align: left;\n",
       "    }\n",
       "\n",
       "    .dataframe tbody tr th {\n",
       "        vertical-align: top;\n",
       "    }\n",
       "</style>\n",
       "<table border=\"1\" class=\"dataframe\">\n",
       "  <thead>\n",
       "    <tr style=\"text-align: right;\">\n",
       "      <th></th>\n",
       "      <th>TV</th>\n",
       "      <th>radio</th>\n",
       "      <th>newspaper</th>\n",
       "    </tr>\n",
       "  </thead>\n",
       "  <tbody>\n",
       "    <tr>\n",
       "      <th>1</th>\n",
       "      <td>230.1</td>\n",
       "      <td>37.8</td>\n",
       "      <td>69.2</td>\n",
       "    </tr>\n",
       "    <tr>\n",
       "      <th>2</th>\n",
       "      <td>44.5</td>\n",
       "      <td>39.3</td>\n",
       "      <td>45.1</td>\n",
       "    </tr>\n",
       "    <tr>\n",
       "      <th>3</th>\n",
       "      <td>17.2</td>\n",
       "      <td>45.9</td>\n",
       "      <td>69.3</td>\n",
       "    </tr>\n",
       "    <tr>\n",
       "      <th>4</th>\n",
       "      <td>151.5</td>\n",
       "      <td>41.3</td>\n",
       "      <td>58.5</td>\n",
       "    </tr>\n",
       "    <tr>\n",
       "      <th>5</th>\n",
       "      <td>180.8</td>\n",
       "      <td>10.8</td>\n",
       "      <td>58.4</td>\n",
       "    </tr>\n",
       "  </tbody>\n",
       "</table>\n",
       "</div>"
      ],
      "text/plain": [
       "      TV  radio  newspaper\n",
       "1  230.1   37.8       69.2\n",
       "2   44.5   39.3       45.1\n",
       "3   17.2   45.9       69.3\n",
       "4  151.5   41.3       58.5\n",
       "5  180.8   10.8       58.4"
      ]
     },
     "execution_count": 7,
     "metadata": {},
     "output_type": "execute_result"
    }
   ],
   "source": [
    "# create a Python list of feature names\n",
    "feature_cols = ['TV', 'radio', 'newspaper']\n",
    "\n",
    "# use the list to select a subset of the original DataFrame\n",
    "X = pd.DataFrame(data, columns=feature_cols) \n",
    "\n",
    "# equivalent command to do this in one line using double square brackets\n",
    "# inner bracket is a list\n",
    "# outer bracker accesses a subset of the original DataFrame\n",
    "X = data[['TV', 'radio', 'newspaper']]\n",
    "# print the first 5 rows\n",
    "X.head()\n",
    "#X['TV'].head()"
   ]
  },
  {
   "cell_type": "code",
   "execution_count": 8,
   "metadata": {},
   "outputs": [
    {
     "name": "stdout",
     "output_type": "stream",
     "text": [
      "<class 'pandas.core.frame.DataFrame'>\n",
      "(200, 3)\n"
     ]
    }
   ],
   "source": [
    "# check the type and shape of X\n",
    "print(type(X))\n",
    "print(X.shape)"
   ]
  },
  {
   "cell_type": "code",
   "execution_count": 9,
   "metadata": {},
   "outputs": [
    {
     "data": {
      "text/plain": [
       "1    22.1\n",
       "2    10.4\n",
       "3     9.3\n",
       "4    18.5\n",
       "5    12.9\n",
       "Name: sales, dtype: float64"
      ]
     },
     "execution_count": 9,
     "metadata": {},
     "output_type": "execute_result"
    }
   ],
   "source": [
    "# select a Series from the DataFrame\n",
    "y = data['sales']\n",
    "\n",
    "# equivalent command that works if there are no spaces in the column name\n",
    "# you can select the Sales as an attribute of the DataFrame\n",
    "#y = data.Sales (python 2)\n",
    "\n",
    "# print the first 5 values\n",
    "y.head()"
   ]
  },
  {
   "cell_type": "markdown",
   "metadata": {},
   "source": [
    "## Splitting X and y into training and testing sets"
   ]
  },
  {
   "cell_type": "code",
   "execution_count": 10,
   "metadata": {
    "collapsed": true
   },
   "outputs": [],
   "source": [
    "# import  \n",
    "\n",
    "from sklearn.model_selection import train_test_split\n",
    "X_train, X_test, y_train, y_test = train_test_split(X, y, random_state=1)"
   ]
  },
  {
   "cell_type": "code",
   "execution_count": 11,
   "metadata": {},
   "outputs": [
    {
     "name": "stdout",
     "output_type": "stream",
     "text": [
      "(150, 3)\n",
      "(50, 3)\n",
      "(150,)\n",
      "(50,)\n"
     ]
    }
   ],
   "source": [
    "# default split is 75% for training and 25% for testing\n",
    "print(X_train.shape)\n",
    "print(X_test.shape)\n",
    "print(y_train.shape)\n",
    "print(y_test.shape)"
   ]
  },
  {
   "cell_type": "markdown",
   "metadata": {},
   "source": [
    "## Linear Regression"
   ]
  },
  {
   "cell_type": "code",
   "execution_count": 12,
   "metadata": {},
   "outputs": [
    {
     "name": "stdout",
     "output_type": "stream",
     "text": [
      "_w:  [ 2.77230758  0.04426291  0.17618244  0.01225339]\n"
     ]
    }
   ],
   "source": [
    "# import model\n",
    "from sklearn.linear_model import LinearRegression\n",
    "import numpy as np\n",
    "\n",
    "# instantiate\n",
    "linreg = LinearRegression()\n",
    "\n",
    "# fit the model to the training data (learn the coefficients)\n",
    "linreg.fit(X_train, y_train)\n",
    "\n",
    "## Excercise 1 \n",
    "# Try your own linear regression algorithm \n",
    "\n",
    "# Generate the data in numpy array form\n",
    "def dataframe2nparray( pDataframe, pFeature ) :\n",
    "    _data = []\n",
    "    for e in pDataframe[pFeature] :\n",
    "        _data.append( e )\n",
    "    \n",
    "    return _data\n",
    "\n",
    "_x_tv        = dataframe2nparray( X_train, 'TV' )\n",
    "_x_radio     = dataframe2nparray( X_train, 'radio' )\n",
    "_x_newspaper = dataframe2nparray( X_train, 'newspaper' )\n",
    "\n",
    "_x_tv_t        = dataframe2nparray( X_test, 'TV' )\n",
    "_x_radio_t     = dataframe2nparray( X_test, 'radio' )\n",
    "_x_newspaper_t = dataframe2nparray( X_test, 'newspaper' )\n",
    "\n",
    "# Sanity checking\n",
    "assert( len( _x_tv ) == len( _x_radio ) )\n",
    "assert( len( _x_radio ) == len( _x_newspaper ) )\n",
    "\n",
    "# Generate the training examples\n",
    "_X = []\n",
    "for q in range( len( _x_tv ) ) :\n",
    "    _X.append( ( 1, _x_tv[q], _x_radio[q], _x_newspaper[q] ) )\n",
    "\n",
    "_X_t = []\n",
    "for q in range( len( _x_tv_t ) ) :\n",
    "    _X_t.append( ( 1, _x_tv_t[q], _x_radio_t[q], _x_newspaper_t[q] ) )\n",
    "    \n",
    "#print( '_X: ', _X )\n",
    "\n",
    "_Y = []\n",
    "for e in y_train :\n",
    "    _Y.append( e )\n",
    "    \n",
    "_Y_t = []\n",
    "for e in y_test :\n",
    "    _Y_t.append( e )\n",
    "    \n",
    "#print( '_Y: ', _Y )\n",
    "\n",
    "# Use linear regression\n",
    "_NUM_ITERS = 10000\n",
    "_ALPHA = 0.0025\n",
    "_nSamples = len( _X )\n",
    "\n",
    "_w = 0.1 * np.random.rand( 4 )\n",
    "#_w = np.zeros( 4 )\n",
    "\n",
    "for i in range( _NUM_ITERS ) :\n",
    "    \n",
    "    for n in range( _nSamples ) :\n",
    "        _dw = np.zeros( 4 )\n",
    "        \n",
    "        # first compute the predicted value\n",
    "        _x = _X[n]\n",
    "        _y  = _Y[n]\n",
    "        _yp = _w[0] * _x[0] + _w[1] * _x[1] + _w[2] * _x[2] + _w[3] * _x[3]\n",
    "        \n",
    "        for q in range( len( _w ) ) :\n",
    "            _dw[q] += ( _yp - _y ) * _x[q]\n",
    "            \n",
    "        _dw = _dw / _nSamples\n",
    "        #_len = np.sqrt( _dw[0]**2 + _dw[1]**2 + _dw[2]**2 + _dw[3]**2 )\n",
    "        #_dw[0] = _dw[0] / _len\n",
    "        #_dw[1] = _dw[1] / _len\n",
    "        #_dw[2] = _dw[2] / _len\n",
    "        #_dw[3] = _dw[3] / _len\n",
    "        _w = _w - _ALPHA * _dw\n",
    "        \n",
    "print( '_w: ', _w )\n"
   ]
  },
  {
   "cell_type": "markdown",
   "metadata": {},
   "source": [
    "## Interpreting model coefficients"
   ]
  },
  {
   "cell_type": "code",
   "execution_count": 13,
   "metadata": {},
   "outputs": [
    {
     "name": "stdout",
     "output_type": "stream",
     "text": [
      "2.87696662232\n",
      "[ 0.04656457  0.17915812  0.00345046]\n"
     ]
    }
   ],
   "source": [
    "# print the intercept and coefficients\n",
    "print(linreg.intercept_)\n",
    "print(linreg.coef_)"
   ]
  },
  {
   "cell_type": "code",
   "execution_count": 14,
   "metadata": {},
   "outputs": [
    {
     "data": {
      "text/plain": [
       "<zip at 0x7f9429aa41c8>"
      ]
     },
     "execution_count": 14,
     "metadata": {},
     "output_type": "execute_result"
    }
   ],
   "source": [
    "# pair the feature names with the coefficients\n",
    "# hard to remember the order, we so we python's zip function to pair the feature names with the coefficients\n",
    "zip(feature_cols, linreg.coef_)"
   ]
  },
  {
   "cell_type": "markdown",
   "metadata": {},
   "source": [
    "$$ y= 2.88 +0.0466 \\times TV+0.179 \\times radio + 0.00345 \\times Newspaper $$\n",
    "How do we interpret the TV coefficient (0.0466)?\n",
    "For a given amount of Radio and Newspaper ad spending, a \"unit\" increase in TV ad spending is associated with a 0.0466 \"unit\" increase in Sales.\n",
    "Or more clearly: For a given amount of Radio and Newspaper ad spending, an additional $1,000 spent on TV ads is associated with an increase in sales of 46.6 items.\n"
   ]
  },
  {
   "cell_type": "markdown",
   "metadata": {},
   "source": [
    "## Making Predictions"
   ]
  },
  {
   "cell_type": "code",
   "execution_count": 15,
   "metadata": {},
   "outputs": [
    {
     "name": "stdout",
     "output_type": "stream",
     "text": [
      "[ 21.70910292  16.41055243   7.60955058  17.80769552  18.6146359\n",
      "  23.83573998  16.32488681  13.43225536   9.17173403  17.333853\n",
      "  14.44479482   9.83511973  17.18797614  16.73086831  15.05529391\n",
      "  15.61434433  12.42541574  17.17716376  11.08827566  18.00537501\n",
      "   9.28438889  12.98458458   8.79950614  10.42382499  11.3846456\n",
      "  14.98082512   9.78853268  19.39643187  18.18099936  17.12807566\n",
      "  21.54670213  14.69809481  16.24641438  12.32114579  19.92422501\n",
      "  15.32498602  13.88726522  10.03162255  20.93105915   7.44936831\n",
      "   3.64695761   7.22020178   5.9962782   18.43381853   8.39408045\n",
      "  14.08371047  15.02195699  20.35836418  20.57036347  19.60636679]\n",
      "[21.303530545437724, 16.051622109106741, 7.3455984389587119, 17.216439770304298, 18.126521460776207, 23.536105347317537, 16.216009976841114, 13.393409762489965, 9.2161262635598096, 17.170238926499174, 14.316579714948242, 9.6712779121862749, 16.552946197232622, 16.68371981116201, 14.903884868288952, 15.807755684145594, 12.267456826106734, 16.466036947112677, 10.890509734835124, 17.409840947581827, 8.9517672403714919, 13.618496489398282, 8.9417670629340869, 10.126260080529857, 11.308145260206416, 14.614028511585305, 9.8142040666151953, 18.84006600656005, 17.599135440888812, 16.622681322328923, 20.929238346072115, 14.790067379137234, 15.744080219324038, 12.111396976777383, 19.336667595602794, 14.925925206337062, 13.375918167613676, 9.8876989599012184, 20.436207499746281, 7.3894352597631618, 3.736311428558476, 7.1108078904722962, 6.0185608116763989, 18.16642543649467, 8.5534437054344643, 13.737034087902245, 14.901747176782605, 19.898437216114097, 20.032198346650915, 19.530539432361746]\n"
     ]
    }
   ],
   "source": [
    "# make predictions on the testing set\n",
    "y_pred = linreg.predict(X_test)\n",
    "\n",
    "def predict( weights, x ) :\n",
    "    _res = 0\n",
    "    for q in range( len( x ) ) :\n",
    "        _res += weights[q] * x[q]\n",
    "    return _res\n",
    "    \n",
    "_y_pred_w = []\n",
    "for q in range( len( _X_t ) ) :\n",
    "    _y_pred_w.append( predict( _w, _X_t[q] ) )\n",
    "        \n",
    "print( y_pred )\n",
    "print( _y_pred_w )"
   ]
  },
  {
   "cell_type": "markdown",
   "metadata": {},
   "source": [
    "We need an evaluation metric in order to compare our predictions with the actual values."
   ]
  },
  {
   "cell_type": "markdown",
   "metadata": {},
   "source": [
    "## 4. Model evaluation metrics for regression"
   ]
  },
  {
   "cell_type": "markdown",
   "metadata": {},
   "source": [
    "we need evaluation metrics designed for comparing continuous values.\n",
    "Let's create some example numeric predictions, and calculate three common evaluation metrics for regression problems:\n"
   ]
  },
  {
   "cell_type": "code",
   "execution_count": 16,
   "metadata": {
    "collapsed": true
   },
   "outputs": [],
   "source": [
    "# define true and predicted response values\n",
    "true = [100, 50, 30, 20]\n",
    "pred = [90, 50, 50, 30]"
   ]
  },
  {
   "cell_type": "markdown",
   "metadata": {},
   "source": [
    "**Mean Absolute Error (MAE)** is the mean of the absolute value of the errors:\n",
    "    $$\\frac{1}{m}\\sum_{i=1}^{m}|y^{(i)}-y'^{(i)}|$$"
   ]
  },
  {
   "cell_type": "code",
   "execution_count": 17,
   "metadata": {},
   "outputs": [
    {
     "name": "stdout",
     "output_type": "stream",
     "text": [
      "10.0\n",
      "10.0\n"
     ]
    }
   ],
   "source": [
    "# calculate MAE by hand\n",
    "print((10 + 0 + 20 + 10) / 4)\n",
    "\n",
    "# calculate MAE using scikit-learn\n",
    "from sklearn import metrics\n",
    "print(metrics.mean_absolute_error(true, pred))"
   ]
  },
  {
   "cell_type": "markdown",
   "metadata": {},
   "source": [
    "**Mean Squared Error (MSE)** is the mean of the squared errors:\n",
    "    $$\\frac{1}{m}\\sum_{i=1}^{m}(y^{(i)}-y'^{(i)})^2$$\n",
    "    "
   ]
  },
  {
   "cell_type": "code",
   "execution_count": 18,
   "metadata": {},
   "outputs": [
    {
     "name": "stdout",
     "output_type": "stream",
     "text": [
      "150.0\n",
      "150.0\n"
     ]
    }
   ],
   "source": [
    "# calculate MSE by hand\n",
    "import numpy as np\n",
    "print((10**2 + 0**2 + 20**2 + 10**2) / 4)\n",
    "\n",
    "# calculate MSE using scikit-learn\n",
    "print(metrics.mean_squared_error(true, pred))"
   ]
  },
  {
   "cell_type": "markdown",
   "metadata": {},
   "source": [
    "**Root Mean Squared Error (RMSE)** is the square root of the mean of the squared errors:\n",
    "     $$\\sqrt{\\frac{1}{m}\\sum_{i=1}^{m}(y^{(i)}-y'^{(i)})^2}$$\n",
    "    "
   ]
  },
  {
   "cell_type": "code",
   "execution_count": 19,
   "metadata": {},
   "outputs": [
    {
     "name": "stdout",
     "output_type": "stream",
     "text": [
      "12.2474487139\n",
      "12.2474487139\n"
     ]
    }
   ],
   "source": [
    "# calculate RMSE by hand\n",
    "import numpy as np\n",
    "print(np.sqrt(((10**2 + 0**2 + 20**2 + 10**2) / 4)))\n",
    "\n",
    "# calculate RMSE using scikit-learn\n",
    "print(np.sqrt(metrics.mean_squared_error(true, pred)))"
   ]
  },
  {
   "cell_type": "markdown",
   "metadata": {},
   "source": [
    "Comparing these metrics:\n",
    "- MAE is the easiest to understand, because it's the average error.\n",
    "- MSE is more popular than MAE, because MSE \"punishes\" larger errors.\n",
    "- RMSE is even more popular than MSE, because RMSE is interpretable in the \"y\" units. Easier to put in context as it's the same units as our response variable"
   ]
  },
  {
   "cell_type": "markdown",
   "metadata": {},
   "source": [
    "## Computing the RMSE for our Sales predictions"
   ]
  },
  {
   "cell_type": "code",
   "execution_count": 20,
   "metadata": {},
   "outputs": [
    {
     "name": "stdout",
     "output_type": "stream",
     "text": [
      "1.40465142303\n",
      "1.47172009486\n"
     ]
    }
   ],
   "source": [
    "print(np.sqrt(metrics.mean_squared_error(y_test, y_pred)))\n",
    "print(np.sqrt(metrics.mean_squared_error(y_test, _y_pred_w)))"
   ]
  },
  {
   "cell_type": "markdown",
   "metadata": {},
   "source": [
    "## Feature selection"
   ]
  },
  {
   "cell_type": "markdown",
   "metadata": {},
   "source": [
    "Does Newspaper \"belong\" in our model? In other words, does it improve the quality of our predictions?\n",
    "Let's remove it from the model and check the RMSE!"
   ]
  },
  {
   "cell_type": "code",
   "execution_count": 21,
   "metadata": {},
   "outputs": [
    {
     "name": "stdout",
     "output_type": "stream",
     "text": [
      "1.38790346994\n"
     ]
    }
   ],
   "source": [
    "# create a Python list of feature names\n",
    "feature_cols = ['TV', 'radio']\n",
    "\n",
    "# use the list to select a subset of the original DataFrame\n",
    "X = data[feature_cols]\n",
    "\n",
    "# select a Series from the DataFrame\n",
    "y = data.sales\n",
    "\n",
    "# split into training and testing sets\n",
    "X_train, X_test, y_train, y_test = train_test_split(X, y, random_state=1)\n",
    "\n",
    "# fit the model to the training data (learn the coefficients)\n",
    "linreg.fit(X_train, y_train)\n",
    "\n",
    "# make predictions on the testing set\n",
    "y_pred = linreg.predict(X_test)\n",
    "\n",
    "# compute the RMSE of our predictions\n",
    "print(np.sqrt(metrics.mean_squared_error(y_test, y_pred)))"
   ]
  },
  {
   "cell_type": "markdown",
   "metadata": {},
   "source": [
    "The RMSE decreased when we removed Newspaper from the model. (Error is something we want to minimize, so a lower number for RMSE is better.) Thus, it is unlikely that this feature is useful for predicting Sales, and should be removed from the model."
   ]
  },
  {
   "cell_type": "code",
   "execution_count": 22,
   "metadata": {
    "collapsed": true
   },
   "outputs": [],
   "source": [
    "## Excercise 2, try nonlinear features and measure the RMSE"
   ]
  },
  {
   "cell_type": "code",
   "execution_count": 25,
   "metadata": {},
   "outputs": [],
   "source": [
    "\n",
    "# Comment out this command to disable interactive plot\n",
    "%matplotlib tk\n",
    "# just enlarge the area to manipulate it better\n",
    "\n",
    "from mpl_toolkits.mplot3d import Axes3D\n",
    "import matplotlib.pyplot as plt\n",
    "\n",
    "fig = plt.figure()\n",
    "ax1 = fig.add_subplot( 221, projection='3d' )\n",
    "ax2 = fig.add_subplot( 222, projection='3d' )\n",
    "ax3 = fig.add_subplot( 223, projection='3d' )\n",
    "ax4 = fig.add_subplot( 224, projection='3d' )\n",
    "\n",
    "ax1.scatter( X['TV'], X['radio'] * X['TV'], y, marker = 'o' )\n",
    "\n",
    "ax1.set_xlabel( 'TV' )\n",
    "ax1.set_ylabel( 'TV * radio' )\n",
    "ax1.set_zlabel( 'sales' )\n",
    "\n",
    "ax2.scatter( np.sqrt( X['TV'] ), np.sqrt( X['radio'] ), y, marker = 'o', color='r' )\n",
    "\n",
    "ax2.set_xlabel( 'sqrt(TV)' )\n",
    "ax2.set_ylabel( 'sqrt(radio)' )\n",
    "ax2.set_zlabel( 'sales' )\n",
    "\n",
    "ax3.scatter( np.power( X['TV'], 2 ), X['radio'], y, marker = 'o', color='m' )\n",
    "\n",
    "ax3.set_xlabel( '(TV)^2' )\n",
    "ax3.set_ylabel( '(radio)' )\n",
    "ax3.set_zlabel( 'sales' )\n",
    "\n",
    "ax4.scatter( X['TV'], np.power( X['radio'], 2 ), y, marker = 'o', color='g' )\n",
    "\n",
    "ax4.set_xlabel( '(TV)' )\n",
    "ax4.set_ylabel( '(radio)^2' )\n",
    "ax4.set_zlabel( 'sales' )\n",
    "\n",
    "plt.show()\n",
    "\n",
    "\n",
    "# according to the graph, the linear model over the features sqrt(tv) and sqrt(radio) ...\n",
    "# seems more linear than the original, as well as the linear model over the features ...\n",
    "# tv, tv * radio\n"
   ]
  },
  {
   "cell_type": "code",
   "execution_count": 24,
   "metadata": {},
   "outputs": [
    {
     "name": "stdout",
     "output_type": "stream",
     "text": [
      "training:  x1,x2\n",
      "coeff:  [ 0.04660234  0.18117959]\n",
      "intercept:  2.92723732027\n",
      "done\n",
      "\n",
      "validating:  x1,x2\n",
      "case for prediction over train data\n",
      "RMSE:  1.75818953476\n",
      "done\n",
      "case for prediction over validation data\n",
      "RMSE:  1.38790346994\n",
      "done\n",
      "\n",
      "training:  sqrt(x1),sqrt(x2)\n",
      "coeff:  [ 0.98784237  1.55108744]\n",
      "intercept:  -4.18801440568\n",
      "done\n",
      "\n",
      "validating:  sqrt(x1),sqrt(x2)\n",
      "case for prediction over train data\n",
      "RMSE:  1.60667379666\n",
      "done\n",
      "case for prediction over validation data\n",
      "RMSE:  1.49760327186\n",
      "done\n",
      "\n",
      "training:  x1^2,x2\n",
      "coeff:  [  1.44403218e-04   1.72802745e-01]\n",
      "intercept:  5.73659329296\n",
      "done\n",
      "\n",
      "validating:  x1^2,x2\n",
      "case for prediction over train data\n",
      "RMSE:  2.35746113906\n",
      "done\n",
      "case for prediction over validation data\n",
      "RMSE:  1.97248674462\n",
      "done\n",
      "\n",
      "training:  x1,x2^2\n",
      "coeff:  [ 0.04675201  0.00359423]\n",
      "intercept:  4.35115843922\n",
      "done\n",
      "\n",
      "validating:  x1,x2^2\n",
      "case for prediction over train data\n",
      "RMSE:  1.84293702598\n",
      "done\n",
      "case for prediction over validation data\n",
      "RMSE:  1.53110937688\n",
      "done\n",
      "\n",
      "training:  x1, x1 * x2\n",
      "coeff:  [ 0.01591614  0.001222  ]\n",
      "intercept:  7.39242778664\n",
      "done\n",
      "\n",
      "validating:  x1, x1 * x2\n",
      "case for prediction over train data\n",
      "RMSE:  1.01990411025\n",
      "done\n",
      "case for prediction over validation data\n",
      "RMSE:  0.749388764125\n",
      "done\n",
      "\n"
     ]
    }
   ],
   "source": [
    "# testing nonlinear feature sqrt(tv), sqrt(radio)\n",
    "\n",
    "# A simple wrapper for test cases\n",
    "class LLinearRegressionModel :\n",
    "    \n",
    "    def __init__( self, dataX, dataY, pId = \"\" ) :\n",
    "        \n",
    "        self.m_X = dataX\n",
    "        self.m_Y = dataY\n",
    "        self.id = pId\n",
    "        self.m_regressor = LinearRegression()\n",
    "        self.m_trained = False\n",
    "        \n",
    "        # separate the data in train and validation sets\n",
    "        self.m_X_train = None\n",
    "        self.m_X_test  = None\n",
    "        self.m_Y_train = None\n",
    "        self.m_Y_test  = None\n",
    "        \n",
    "        self.m_X_train, self.m_X_test, self.m_Y_train, self.m_Y_test \\\n",
    "                = train_test_split( dataX, dataY, random_state = 1 )\n",
    "        \n",
    "    def train( self ) :\n",
    "        \n",
    "        print( 'training: ', self.id )\n",
    "        \n",
    "        self.m_regressor.fit( self.m_X_train, self.m_Y_train )\n",
    "        self.m_trained = True\n",
    "        \n",
    "        print( 'coeff: ', self.m_regressor.coef_ )\n",
    "        print( 'intercept: ', self.m_regressor.intercept_ )\n",
    "        \n",
    "        print( 'done\\n' )\n",
    "        \n",
    "    def validate( self ) :\n",
    "        \n",
    "        print( 'validating: ', self.id )\n",
    "        \n",
    "        if not self.m_trained :\n",
    "            print( 'LLinearRegressionModel::validate> should train the model first' )\n",
    "            return\n",
    "        \n",
    "        # predict with the trained model on the training set\n",
    "        _y_pred_t = self.m_regressor.predict( self.m_X_train )\n",
    "\n",
    "        # compute the RMSE error of the current prediction\n",
    "        print( 'case for prediction over train data' )\n",
    "        print( 'RMSE: ', np.sqrt( metrics.mean_squared_error( self.m_Y_train, _y_pred_t ) ) )\n",
    "        print( 'done' )\n",
    "        \n",
    "        # predict with the trained model on the validation set\n",
    "        _y_pred = self.m_regressor.predict( self.m_X_test )\n",
    "        \n",
    "        # compute the RMSE error of the current prediction\n",
    "        print( 'case for prediction over validation data' )\n",
    "        print( 'RMSE: ', np.sqrt( metrics.mean_squared_error( self.m_Y_test, _y_pred ) ) )\n",
    "        print( 'done\\n' )\n",
    "        \n",
    "# choose the sqrt(tv) and sqrt(radio) as potential new features\n",
    "\n",
    "_X_models = [ pd.DataFrame() for q in range( 5 ) ]\n",
    "_X_models[0]['TV'] = X['TV']\n",
    "_X_models[0]['radio'] = X['radio']\n",
    "_X_models[1]['TV'] = np.sqrt( X['TV'] )\n",
    "_X_models[1]['radio'] = np.sqrt( X['radio'] )\n",
    "_X_models[2]['TV'] = np.power( X['TV'], 2 )\n",
    "_X_models[2]['radio'] = X['radio']\n",
    "_X_models[3]['TV'] = X['TV']\n",
    "_X_models[3]['radio'] = np.power( X['radio'], 2 )\n",
    "_X_models[4]['TV'] = X['TV']\n",
    "_X_models[4]['tv_radio'] = X['radio'] * X['TV']\n",
    "\n",
    "_ids = ['x1,x2', 'sqrt(x1),sqrt(x2)', 'x1^2,x2', 'x1,x2^2', 'x1, x1 * x2']\n",
    "\n",
    "_models = []\n",
    "for q in range( len( _X_models ) ) :\n",
    "    _models.append( LLinearRegressionModel( _X_models[q], y, _ids[q] ) )\n",
    "\n",
    "for q in range( len( _models ) ) :\n",
    "    _models[q].train()\n",
    "    _models[q].validate()\n",
    "    \n",
    "## Conclusions\n",
    "\n",
    "# it seems the normal linear model x1, x2 tends to generalize better for most of the cases.\n",
    "# Even thought the sqrt features seem to fit better the model ( smaller RMSE error over the training data ) ...\n",
    "# it doesns't generalize well ( bigger RMSE error over the validation data )\n",
    "\n",
    "# Also, the combination of the features x1 and x2 for the model x1, x1*x2 seems to have better ...\n",
    "# results than all the others as it performs well over the training data and the validation data"
   ]
  }
 ],
 "metadata": {
  "kernelspec": {
   "display_name": "Python 3",
   "language": "python",
   "name": "python3"
  },
  "language_info": {
   "codemirror_mode": {
    "name": "ipython",
    "version": 3
   },
   "file_extension": ".py",
   "mimetype": "text/x-python",
   "name": "python",
   "nbconvert_exporter": "python",
   "pygments_lexer": "ipython3",
   "version": "3.6.3"
  },
  "widgets": {
   "state": {},
   "version": "1.1.2"
  }
 },
 "nbformat": 4,
 "nbformat_minor": 2
}
