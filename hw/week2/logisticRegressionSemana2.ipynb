{
 "cells": [
  {
   "cell_type": "markdown",
   "metadata": {},
   "source": [
    "# Logistic Regression for Sentiment Analysis"
   ]
  },
  {
   "cell_type": "markdown",
   "metadata": {},
   "source": [
    "Adapted from http://nbviewer.jupyter.org/github/rasbt/pattern_classification/blob/master/machine_learning/scikit-learn/outofcore_modelpersistence.ipynb"
   ]
  },
  {
   "cell_type": "markdown",
   "metadata": {},
   "source": [
    "<br>\n",
    "<br>"
   ]
  },
  {
   "cell_type": "markdown",
   "metadata": {},
   "source": [
    "## The IMDb Movie Review Dataset"
   ]
  },
  {
   "cell_type": "markdown",
   "metadata": {},
   "source": [
    "In this section, we will train a simple logistic regression model to classify movie reviews from the 50k IMDb review dataset that has been collected by Maas et. al.\n",
    "\n",
    "> AL Maas, RE Daly, PT Pham, D Huang, AY Ng, and C Potts. Learning word vectors for sentiment analysis. In Proceedings of the 49th Annual Meeting of the Association for Computational Lin- guistics: Human Language Technologies, pages 142–150, Portland, Oregon, USA, June 2011. Association for Computational Linguistics\n",
    "\n",
    "[Source: http://ai.stanford.edu/~amaas/data/sentiment/]\n",
    "\n",
    "The dataset consists of 50,000 movie reviews from the original \"train\" and \"test\" subdirectories. The class labels are binary (1=positive and 0=negative) and contain 25,000 positive and 25,000 negative movie reviews, respectively.\n",
    "For simplicity, I assembled the reviews in a single CSV file.\n"
   ]
  },
  {
   "cell_type": "code",
   "execution_count": null,
   "metadata": {
    "collapsed": true
   },
   "outputs": [],
   "source": [
    "import pandas as pd\n",
    "# if you want to download the original file:\n",
    "#df = pd.read_csv('https://raw.githubusercontent.com/rasbt/pattern_classification/master/data/50k_imdb_movie_reviews.csv')\n",
    "# otherwise load local file\n",
    "df = pd.read_csv('shuffled_movie_data.csv')\n",
    "df.tail()"
   ]
  },
  {
   "cell_type": "markdown",
   "metadata": {},
   "source": [
    "## Preprocessing Text Data"
   ]
  },
  {
   "cell_type": "markdown",
   "metadata": {},
   "source": [
    "Now, let us define a simple `tokenizer` that splits the text into individual word tokens. Furthermore, we will use some simple regular expression to remove HTML markup and all non-letter characters but \"emoticons,\" convert the text to lower case, remove stopwords, and apply the Porter stemming algorithm to convert the words into their root form."
   ]
  },
  {
   "cell_type": "code",
   "execution_count": 1,
   "metadata": {
    "collapsed": true
   },
   "outputs": [],
   "source": [
    "import numpy as np\n",
    "from nltk.stem.porter import PorterStemmer\n",
    "import re\n",
    "from nltk.corpus import stopwords\n",
    "\n",
    "stop = stopwords.words('english')\n",
    "porter = PorterStemmer()\n",
    "\n",
    "def tokenizer(text):\n",
    "    text = re.sub('<[^>]*>', '', text)\n",
    "    emoticons = re.findall('(?::|;|=)(?:-)?(?:\\)|\\(|D|P)', text.lower())\n",
    "    text = re.sub('[\\W]+', ' ', text.lower()) + ' '.join(emoticons).replace('-', '')\n",
    "    text = [w for w in text.split() if w not in stop]\n",
    "    tokenized = [porter.stem(w) for w in text]\n",
    "    return text"
   ]
  },
  {
   "cell_type": "markdown",
   "metadata": {},
   "source": [
    "Let's give it at try:"
   ]
  },
  {
   "cell_type": "code",
   "execution_count": null,
   "metadata": {},
   "outputs": [],
   "source": [
    "tokenizer('This :) is a <a> test! :-)</br>')"
   ]
  },
  {
   "cell_type": "markdown",
   "metadata": {},
   "source": [
    "## Learning (SciKit)"
   ]
  },
  {
   "cell_type": "markdown",
   "metadata": {},
   "source": [
    "First, we define a generator that returns the document body and the corresponding class label:"
   ]
  },
  {
   "cell_type": "code",
   "execution_count": 2,
   "metadata": {
    "collapsed": true
   },
   "outputs": [],
   "source": [
    "def stream_docs(path):\n",
    "    with open(path, 'r') as csv:\n",
    "        next(csv) # skip header\n",
    "        for line in csv:\n",
    "            text, label = line[:-3], int(line[-2])\n",
    "            yield text, label"
   ]
  },
  {
   "cell_type": "markdown",
   "metadata": {},
   "source": [
    "To conform that the `stream_docs` function fetches the documents as intended, let us execute the following code snippet before we implement the `get_minibatch` function:"
   ]
  },
  {
   "cell_type": "code",
   "execution_count": null,
   "metadata": {
    "collapsed": true
   },
   "outputs": [],
   "source": [
    "_sdocs = stream_docs( path = 'shuffled_movie_data.csv' )\n",
    "#print( next( _sdocs ) )\n",
    "#print( next( _sdocs ) )"
   ]
  },
  {
   "cell_type": "markdown",
   "metadata": {},
   "source": [
    "After we confirmed that our `stream_docs` functions works, we will now implement a `get_minibatch` function to fetch a specified number (`size`) of documents:"
   ]
  },
  {
   "cell_type": "code",
   "execution_count": 3,
   "metadata": {
    "collapsed": true
   },
   "outputs": [],
   "source": [
    "def get_minibatch(doc_stream, size):\n",
    "    docs, y = [], []\n",
    "    for _ in range(size):\n",
    "        text, label = next(doc_stream)\n",
    "        docs.append(text)\n",
    "        y.append(label)\n",
    "    return docs, y"
   ]
  },
  {
   "cell_type": "markdown",
   "metadata": {},
   "source": [
    "Next, we will make use of the \"hashing trick\" through scikit-learns [HashingVectorizer](http://scikit-learn.org/stable/modules/generated/sklearn.feature_extraction.text.HashingVectorizer.html) to create a bag-of-words model of our documents. Details of the bag-of-words model for document classification can be found at  [Naive Bayes and Text Classification I - Introduction and Theory](http://arxiv.org/abs/1410.5329)."
   ]
  },
  {
   "cell_type": "code",
   "execution_count": 4,
   "metadata": {
    "collapsed": true
   },
   "outputs": [],
   "source": [
    "from sklearn.feature_extraction.text import HashingVectorizer\n",
    "vect = HashingVectorizer(decode_error='ignore', \n",
    "                         n_features=2**20,\n",
    "                         preprocessor=None, \n",
    "                         tokenizer=tokenizer)"
   ]
  },
  {
   "cell_type": "markdown",
   "metadata": {},
   "source": [
    "Excercise 1: define new features according this https://web.stanford.edu/~jurafsky/slp3/7.pdf"
   ]
  },
  {
   "cell_type": "code",
   "execution_count": 6,
   "metadata": {},
   "outputs": [],
   "source": [
    "\n",
    "## Fix a bug ( not returning tokenized by stemmer) and filtrating only nouns and adjectives\n",
    "import nltk.tag\n",
    "\n",
    "def tokenizer_modified(text) :\n",
    "    text = re.sub('<[^>]*>', '', text)\n",
    "    emoticons = re.findall('(?::|;|=)(?:-)?(?:\\)|\\(|D|P)', text.lower())\n",
    "    text = re.sub('[\\W]+', ' ', text.lower()) + ' '.join(emoticons).replace('-', '')\n",
    "    text = [w for w in text.split() if w not in stop]\n",
    "    # stemming\n",
    "    stemmed = [porter.stem(w) for w in text]\n",
    "    stemmed_tagged = nltk.tag.pos_tag( stemmed )\n",
    "    # filter by type == adjective or noun\n",
    "    tokenized = [ w for (w,c) in stemmed_tagged if c == 'JJ' or c == 'NN' ]\n",
    "        \n",
    "    return text\n",
    "\n",
    "\n",
    "vect_modified = HashingVectorizer( decode_error='ignore', \n",
    "                                   n_features=2**20,\n",
    "                                   preprocessor=None, \n",
    "                                   tokenizer = tokenizer_modified )\n"
   ]
  },
  {
   "cell_type": "markdown",
   "metadata": {},
   "source": [
    "Using the [SGDClassifier]() from scikit-learn, we will can instanciate a logistic regression classifier that learns from the documents incrementally using stochastic gradient descent. "
   ]
  },
  {
   "cell_type": "code",
   "execution_count": 43,
   "metadata": {
    "collapsed": true
   },
   "outputs": [],
   "source": [
    "from sklearn.linear_model import SGDClassifier\n",
    "clf = SGDClassifier(loss='log', random_state=1, n_iter=1)\n",
    "doc_stream = stream_docs(path='shuffled_movie_data.csv')        "
   ]
  },
  {
   "cell_type": "markdown",
   "metadata": {},
   "source": [
    "Excercise 2: implement a MaxEnt classifier, using regularization, according this https://web.stanford.edu/~jurafsky/slp3/7.pdf"
   ]
  },
  {
   "cell_type": "markdown",
   "metadata": {},
   "source": [
    "L2 Regularization -> penalize using the square sums of the weights by a lambda-regularization parameter\n",
    "\n",
    "$$J_{regularized} = \\small \\underbrace{-\\frac{1}{m} \\sum\\limits_{i = 1}^{m} \\large{(}\\small y^{(i)}\\log\\left(h^{(i)}\\right) + (1-y^{(i)})\\log\\left(1- h^{(i)}\\right) \\large{)} }_\\text{J} + \\underbrace{\\frac{1}{m} \\frac{\\lambda}{2} \\sum\\limits_j \\theta_{j}^{2} }_\\text{L2 regularization cost}$$"
   ]
  },
  {
   "cell_type": "code",
   "execution_count": 51,
   "metadata": {
    "collapsed": true
   },
   "outputs": [],
   "source": [
    "\n",
    "# include some sparse utils\n",
    "from scipy.sparse.linalg import norm as snorm\n",
    "from scipy.sparse import hstack\n",
    "# pyprind as well, to check how far we are in the computations\n",
    "import pyprind\n",
    "\n",
    "class LLogisticClassifier( object ) :\n",
    "    \n",
    "    ### Constructor :\n",
    "    ### @param: float - alpha -> learning rate\n",
    "    ### @param: boolean - useRegularization -> to wheter or not use regularization\n",
    "    ### @param: float - lam -> regularization parameter\n",
    "    ### @param: int - max_iter -> max number of iterations to run\n",
    "    def __init__( self, alpha = 0.01, useRegularization = False, lam = 0.1, max_iter = 45, batch = False ) :\n",
    "        \n",
    "        self.m_useRegularization = useRegularization\n",
    "        self.m_lam = lam\n",
    "        self.m_max_iter = max_iter\n",
    "        self.m_alpha = alpha\n",
    "        self.m_theta = None\n",
    "        \n",
    "        self.m_trained = False\n",
    "        \n",
    "        self.m_pbar = None\n",
    "        \n",
    "        ## It seems that batch gradients descent can't be used, as the memory explodes :(\n",
    "        self.m_isBatch = False#batch\n",
    "    \n",
    "    ### @brief: Calculates the sigmoid function of a vector ( in dense or sparse form )\n",
    "    ### @param: 'vector' - v -> a vector of values\n",
    "    def _sigmoid( self, v ) :\n",
    "        return ( 1. / ( 1. + np.exp( -v ) ) )\n",
    "    \n",
    "    ### @brief: Returns the theta params and the bias of the trained model\n",
    "    def getModelParams( self ) :\n",
    "        if not self.m_trained :\n",
    "            print( 'warning, the model hasnt been trained' )\n",
    "        return self.m_theta\n",
    "    \n",
    "    ### @brief: Trains the model given training data in matrix form\n",
    "    ### @param: scipy.sparse.csr_matrix - X -> sparse matrix representation of the input data\n",
    "    ### @param: list - Y -> list of output labels {0, 1}\n",
    "    def train( self, X, Y ) :\n",
    "        _m = X.shape[0]\n",
    "        _n = X.shape[1]\n",
    "        \n",
    "        self.m_pbar = pyprind.ProgBar( self.m_max_iter )\n",
    "        \n",
    "        #if self.m_isBatch :\n",
    "        if False : # Don't use batch variant, as it kind of explodes in memory\n",
    "            print( 'using batch gradient descent' )\n",
    "            self._trainBatch( X, Y )\n",
    "        else :\n",
    "            print( 'using stochastic gradient descent' )\n",
    "            self._trainStochastic( X, Y )\n",
    "        \n",
    "    ### @brief: Trains the model given training data in matrix form\n",
    "    ### @param: scipy.sparse.csr_matrix - X -> sparse matrix representation of the input data\n",
    "    ### @param: list - Y -> list of output labels {0, 1}\n",
    "    def partial_train( self, X, Y, passes = 1 ) :\n",
    "        _m = X.shape[0]\n",
    "        _n = X.shape[1]\n",
    "        \n",
    "        if self.m_pbar is None :\n",
    "            self.m_pbar = pyprind.ProgBar( self.m_max_iter * passes )\n",
    "        \n",
    "        if not self.m_trained :\n",
    "            self.m_theta = None\n",
    "            \n",
    "        self._trainStochastic( X, Y )\n",
    "        \n",
    "    def progBar( self ) :\n",
    "        return self.m_pbar\n",
    "        \n",
    "    def _trainStochastic( self, X, Y ) :\n",
    "        \n",
    "        # m -> X.rows, n -> X.cols\n",
    "        _m = X.shape[0]\n",
    "        _n = X.shape[1]\n",
    "        \n",
    "        _col = np.ones( ( _m, 1 ) )\n",
    "        X = hstack( [_col, X], \"csr\" )\n",
    "        \n",
    "        _theta = np.random.rand( _n + 1, 1 ) / 10.0\n",
    "        \n",
    "        if self.m_theta is not None :\n",
    "            _theta = self.m_theta\n",
    "        \n",
    "        for q in range( self.m_max_iter ) :\n",
    "            \n",
    "            for j in range( _m ) :\n",
    "                ## take the j training example\n",
    "                _x = X[j]\n",
    "                _y = Y[j]\n",
    "                ## calculate the estimation using the sparse vectors\n",
    "                _z = _x.dot( _theta )\n",
    "                _h = self._sigmoid( _z )\n",
    "                ## compute the gradient\n",
    "                _e = (_h - _y)[0,0]\n",
    "                _grad = _e * ( _x.transpose() )\n",
    "                # update the model parameters\n",
    "                if self.m_useRegularization :\n",
    "                    _theta = ( 1 - ( self.m_lam / _m ) * self.m_alpha ) * _theta - self.m_alpha * _grad\n",
    "                else :\n",
    "                    _theta = _theta - self.m_alpha * _grad\n",
    "            \n",
    "            self.m_pbar.update()\n",
    "            \n",
    "        self.m_theta = _theta\n",
    "        self.m_trained = True\n",
    "    \n",
    "    def _trainBatch( self, X, Y ) :\n",
    "        \n",
    "        # m -> X.rows, n -> X.cols\n",
    "        _m = X.shape[0]\n",
    "        _n = X.shape[1]\n",
    "        \n",
    "        _col = np.ones( ( _m, 1 ) )\n",
    "        X = hstack( [_col, X], \"csr\" )\n",
    "        \n",
    "        _theta = np.random.rand( _n + 1, 1 ) / 10.0\n",
    "        \n",
    "        for q in range( self.m_max_iter ) :\n",
    "            \n",
    "            _grad = ( 1 / _m ) * ( X.transpose() ) * ( self._sigmoid( X.dot( _theta ) ) - Y )\n",
    "            _theta = _theta - self.m_alpha * _grad\n",
    "            \n",
    "            self.m_pbar.update()\n",
    "            \n",
    "        self.m_theta = _theta\n",
    "        self.m_trained = True\n",
    "        \n",
    "    def predict( self, x ) :\n",
    "        if not self.m_trained :\n",
    "            print( 'model hasnt been trained!' )\n",
    "            return 0.0        \n",
    "        \n",
    "        _m = x.shape[0]\n",
    "        _n = x.shape[1]\n",
    "\n",
    "        _col = np.ones( ( _m, 1 ) )\n",
    "        x = hstack( [_col, x], \"csr\" )\n",
    "        \n",
    "        _z = x.dot( self.m_theta )\n",
    "        _h = self._sigmoid( _z )\n",
    "            \n",
    "        _yPred = 0\n",
    "        if ( _h[0,0] > 0.5 ) :\n",
    "            _yPred = 1\n",
    "        \n",
    "        return _yPred\n",
    "        \n",
    "    ### @brief: tests the trained model given some test data\n",
    "    ### @param: scipy.sparse.csr_matrix - X -> test data in sparse matrix form\n",
    "    ### @param: list - Y -> test data labels in a list\n",
    "    def score( self, X, Y ) :\n",
    "        if not self.m_trained :\n",
    "            print( 'model hasnt been trained!' )\n",
    "            return 0.0\n",
    "        \n",
    "        _m = X.shape[0]\n",
    "        _n = X.shape[1]\n",
    "\n",
    "        _col = np.ones( ( _m, 1 ) )\n",
    "        X = hstack( [_col, X], \"csr\" )\n",
    "        \n",
    "        _correctCount = 0\n",
    "        \n",
    "        for j in range( _m ) :\n",
    "            _x = X[j]\n",
    "            _y = Y[j]\n",
    "            _z = _x.dot( self.m_theta )\n",
    "            _h = self._sigmoid( _z )\n",
    "            \n",
    "            _yPred = 0\n",
    "            if ( _h[0,0] > 0.5 ) :\n",
    "                _yPred = 1\n",
    "            \n",
    "            if _yPred == _y :\n",
    "                _correctCount += 1\n",
    "        \n",
    "        return _correctCount / float( _m )\n",
    "    \n",
    "    def getTheta( self ) :\n",
    "        return self.m_theta\n",
    "    \n",
    "    def setTheta( self, theta ) :\n",
    "        self.m_trained = True\n",
    "        self.m_theta = theta\n",
    "    \n",
    "    @staticmethod\n",
    "    def saveModel( pClassifier ) :\n",
    "        import joblib\n",
    "        import os\n",
    "\n",
    "        joblib.dump( pClassifier.getTheta(), './clf_modified.pkl')\n",
    "        \n",
    "    @staticmethod\n",
    "    def loadModel() :        \n",
    "        import joblib\n",
    "        \n",
    "        _theta = joblib.load('./clf_modified.pkl')\n",
    "        \n",
    "        _classifier = LLogisticClassifier()\n",
    "        _classifier.setTheta( _theta )\n",
    "\n",
    "        return _classifier\n"
   ]
  },
  {
   "cell_type": "code",
   "execution_count": 56,
   "metadata": {},
   "outputs": [
    {
     "name": "stdout",
     "output_type": "stream",
     "text": [
      "using pre-trained model\n",
      "loaded\n",
      "Accuracy on test set: 0.694\n"
     ]
    }
   ],
   "source": [
    "## Testing our classifier\n",
    "\n",
    "USE_PRE_TRAINED = True\n",
    "\n",
    "_lgClassifier = None\n",
    "\n",
    "if USE_PRE_TRAINED :\n",
    "    ## Load the pretrained model\n",
    "    print( 'using pre-trained model' )\n",
    "    _lgClassifier = LLogisticClassifier.loadModel()\n",
    "    print( 'loaded' )\n",
    "    \n",
    "else :\n",
    "    print( 'starting' )\n",
    "\n",
    "    _lgClassifier = LLogisticClassifier( alpha = 0.1, useRegularization = True, max_iter = 10, lam = 0.5 )\n",
    "\n",
    "    for _ in range( 100 ) :\n",
    "        X_train, y_train = get_minibatch( doc_stream, size=100 )\n",
    "        X_train = vect_modified.fit_transform( X_train )\n",
    "        _lgClassifier.partial_train( X_train, y_train, 100 )\n",
    "\n",
    "    print( 'done' )\n",
    "    \n",
    "    print( 'Accuracy on training set: %.3f' % _lgClassifier.score( X_train, y_train ) ) ## -> accuracy on training data -> ~0.950\n",
    "    \n",
    "    # Save model\n",
    "    LLogisticClassifier.saveModel( _lgClassifier )\n",
    "    \n",
    "# testing set\n",
    "X_test, y_test = get_minibatch(doc_stream, size=500)\n",
    "X_test = vect.transform(X_test)\n",
    "print( 'Accuracy on test set: %.3f' % _lgClassifier.score( X_test, y_test ) ) ## -> accuracy on test data -> ~0.704"
   ]
  },
  {
   "cell_type": "code",
   "execution_count": null,
   "metadata": {},
   "outputs": [],
   "source": [
    "\n",
    "pbar = pyprind.ProgBar( 45 )\n",
    "classes = np.array([0, 1])\n",
    "\n",
    "for _ in range(45):\n",
    "    X_train, y_train = get_minibatch(doc_stream, size=1000)\n",
    "    X_train = vect.fit_transform(X_train)\n",
    "    clf.partial_fit(X_train, y_train, classes=classes)\n",
    "    pbar.update()"
   ]
  },
  {
   "cell_type": "markdown",
   "metadata": {},
   "source": [
    "Depending on your machine, it will take about 2-3 minutes to stream the documents and learn the weights for the logistic regression model to classify \"new\" movie reviews. Executing the preceding code, we used the first 45,000 movie reviews to train the classifier, which means that we have 5,000 reviews left for testing:"
   ]
  },
  {
   "cell_type": "code",
   "execution_count": 21,
   "metadata": {},
   "outputs": [
    {
     "name": "stdout",
     "output_type": "stream",
     "text": [
      "Accuracy: 0.578\n",
      "Accuracy: 0.950\n"
     ]
    }
   ],
   "source": [
    "X_test, y_test = get_minibatch(doc_stream, size=5000)\n",
    "X_test = vect.transform(X_test)\n",
    "print('Accuracy: %.3f' % clf.score(X_test, y_test))\n",
    "print('Accuracy: %.3f' % clf.score(X_train, y_train)) -> accuracy on the training data -> 0.889"
   ]
  },
  {
   "cell_type": "markdown",
   "metadata": {},
   "source": [
    "I think that the predictive performance, an accuracy of ~87%, is quite \"reasonable\" given that we \"only\" used the default parameters and didn't do any hyperparameter optimization. \n",
    "\n",
    "After we estimated the model perfomance, let us use those last 5,000 test samples to update our model."
   ]
  },
  {
   "cell_type": "code",
   "execution_count": null,
   "metadata": {
    "collapsed": true
   },
   "outputs": [],
   "source": [
    "clf = clf.partial_fit(X_test, y_test)"
   ]
  },
  {
   "cell_type": "markdown",
   "metadata": {},
   "source": [
    "<br>\n",
    "<br>"
   ]
  },
  {
   "cell_type": "markdown",
   "metadata": {
    "collapsed": true
   },
   "source": [
    "# Model Persistence"
   ]
  },
  {
   "cell_type": "markdown",
   "metadata": {},
   "source": [
    "In the previous section, we successfully trained a model to predict the sentiment of a movie review. Unfortunately, if we'd close this IPython notebook at this point, we'd have to go through the whole learning process again and again if we'd want to make a prediction on \"new data.\"\n",
    "\n",
    "So, to reuse this model, we could use the [`pickle`](https://docs.python.org/3.5/library/pickle.html) module to \"serialize a Python object structure\". Or even better, we could use the [`joblib`](https://pypi.python.org/pypi/joblib) library, which handles large NumPy arrays more efficiently.\n",
    "\n",
    "To install:\n",
    "conda install -c anaconda joblib"
   ]
  },
  {
   "cell_type": "code",
   "execution_count": null,
   "metadata": {
    "collapsed": true
   },
   "outputs": [],
   "source": [
    "import joblib\n",
    "import os\n",
    "if not os.path.exists('./pkl_objects'):\n",
    "    os.mkdir('./pkl_objects')\n",
    "    \n",
    "joblib.dump(vect, './vectorizer.pkl')\n",
    "joblib.dump(clf, './clf.pkl')"
   ]
  },
  {
   "cell_type": "markdown",
   "metadata": {},
   "source": [
    "Using the code above, we \"pickled\" the `HashingVectorizer` and the `SGDClassifier` so that we can re-use those objects later. However, `pickle` and `joblib` have a known issue with `pickling` objects or functions from a `__main__` block and we'd get an `AttributeError: Can't get attribute [x] on <module '__main__'>` if we'd unpickle it later. Thus, to pickle the `tokenizer` function, we can write it to a file and import it to get the `namespace` \"right\"."
   ]
  },
  {
   "cell_type": "code",
   "execution_count": null,
   "metadata": {
    "collapsed": true
   },
   "outputs": [],
   "source": [
    "%%writefile tokenizer.py\n",
    "from nltk.stem.porter import PorterStemmer\n",
    "import re\n",
    "from nltk.corpus import stopwords\n",
    "\n",
    "stop = stopwords.words('english')\n",
    "porter = PorterStemmer()\n",
    "\n",
    "def tokenizer(text):\n",
    "    text = re.sub('<[^>]*>', '', text)\n",
    "    emoticons = re.findall('(?::|;|=)(?:-)?(?:\\)|\\(|D|P)', text.lower())\n",
    "    text = re.sub('[\\W]+', ' ', text.lower()) + ' '.join(emoticons).replace('-', '')\n",
    "    text = [w for w in text.split() if w not in stop]\n",
    "    tokenized = [porter.stem(w) for w in text]\n",
    "    return text"
   ]
  },
  {
   "cell_type": "code",
   "execution_count": null,
   "metadata": {
    "collapsed": true
   },
   "outputs": [],
   "source": [
    "from tokenizer import tokenizer\n",
    "joblib.dump(tokenizer, './tokenizer.pkl')"
   ]
  },
  {
   "cell_type": "markdown",
   "metadata": {},
   "source": [
    "Now, let us restart this IPython notebook and check if the we can load our serialized objects:"
   ]
  },
  {
   "cell_type": "code",
   "execution_count": null,
   "metadata": {
    "collapsed": true
   },
   "outputs": [],
   "source": [
    "import joblib\n",
    "tokenizer = joblib.load('./tokenizer.pkl')\n",
    "vect = joblib.load('./vectorizer.pkl')\n",
    "clf = joblib.load('./clf.pkl')"
   ]
  },
  {
   "cell_type": "markdown",
   "metadata": {},
   "source": [
    "After loading the `tokenizer`, `HashingVectorizer`, and the tranined logistic regression model, we can use it to make predictions on new data, which can be useful, for example, if we'd want to embed our classifier into a web application -- a topic for another IPython notebook."
   ]
  },
  {
   "cell_type": "code",
   "execution_count": null,
   "metadata": {
    "collapsed": true
   },
   "outputs": [],
   "source": [
    "example = ['I hate this movie']\n",
    "print( tokenizer( example[0] ) )\n",
    "X = vect.transform(example)\n",
    "print( X )\n",
    "clf.predict(X)"
   ]
  },
  {
   "cell_type": "code",
   "execution_count": null,
   "metadata": {
    "collapsed": true
   },
   "outputs": [],
   "source": [
    "example = ['I loved this movie']\n",
    "print( tokenizer( example[0] ) )\n",
    "X = vect.transform(example)\n",
    "print( X )\n",
    "clf.predict(X)"
   ]
  },
  {
   "cell_type": "code",
   "execution_count": null,
   "metadata": {
    "collapsed": true
   },
   "outputs": [],
   "source": []
  }
 ],
 "metadata": {
  "kernelspec": {
   "display_name": "Python 3",
   "language": "python",
   "name": "python3"
  },
  "language_info": {
   "codemirror_mode": {
    "name": "ipython",
    "version": 3
   },
   "file_extension": ".py",
   "mimetype": "text/x-python",
   "name": "python",
   "nbconvert_exporter": "python",
   "pygments_lexer": "ipython3",
   "version": "3.6.3"
  }
 },
 "nbformat": 4,
 "nbformat_minor": 1
}
