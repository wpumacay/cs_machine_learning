{
 "cells": [
  {
   "cell_type": "markdown",
   "metadata": {},
   "source": [
    "# Logistic Regression for Sentiment Analysis"
   ]
  },
  {
   "cell_type": "markdown",
   "metadata": {},
   "source": [
    "Adapted from http://nbviewer.jupyter.org/github/rasbt/pattern_classification/blob/master/machine_learning/scikit-learn/outofcore_modelpersistence.ipynb"
   ]
  },
  {
   "cell_type": "markdown",
   "metadata": {},
   "source": [
    "<br>\n",
    "<br>"
   ]
  },
  {
   "cell_type": "markdown",
   "metadata": {},
   "source": [
    "## The IMDb Movie Review Dataset"
   ]
  },
  {
   "cell_type": "markdown",
   "metadata": {},
   "source": [
    "In this section, we will train a simple logistic regression model to classify movie reviews from the 50k IMDb review dataset that has been collected by Maas et. al.\n",
    "\n",
    "> AL Maas, RE Daly, PT Pham, D Huang, AY Ng, and C Potts. Learning word vectors for sentiment analysis. In Proceedings of the 49th Annual Meeting of the Association for Computational Lin- guistics: Human Language Technologies, pages 142–150, Portland, Oregon, USA, June 2011. Association for Computational Linguistics\n",
    "\n",
    "[Source: http://ai.stanford.edu/~amaas/data/sentiment/]\n",
    "\n",
    "The dataset consists of 50,000 movie reviews from the original \"train\" and \"test\" subdirectories. The class labels are binary (1=positive and 0=negative) and contain 25,000 positive and 25,000 negative movie reviews, respectively.\n",
    "For simplicity, I assembled the reviews in a single CSV file.\n"
   ]
  },
  {
   "cell_type": "code",
   "execution_count": 1,
   "metadata": {},
   "outputs": [
    {
     "data": {
      "text/html": [
       "<div>\n",
       "<style>\n",
       "    .dataframe thead tr:only-child th {\n",
       "        text-align: right;\n",
       "    }\n",
       "\n",
       "    .dataframe thead th {\n",
       "        text-align: left;\n",
       "    }\n",
       "\n",
       "    .dataframe tbody tr th {\n",
       "        vertical-align: top;\n",
       "    }\n",
       "</style>\n",
       "<table border=\"1\" class=\"dataframe\">\n",
       "  <thead>\n",
       "    <tr style=\"text-align: right;\">\n",
       "      <th></th>\n",
       "      <th>review</th>\n",
       "      <th>sentiment</th>\n",
       "    </tr>\n",
       "  </thead>\n",
       "  <tbody>\n",
       "    <tr>\n",
       "      <th>49995</th>\n",
       "      <td>OK, lets start with the best. the building. al...</td>\n",
       "      <td>0</td>\n",
       "    </tr>\n",
       "    <tr>\n",
       "      <th>49996</th>\n",
       "      <td>The British 'heritage film' industry is out of...</td>\n",
       "      <td>0</td>\n",
       "    </tr>\n",
       "    <tr>\n",
       "      <th>49997</th>\n",
       "      <td>I don't even know where to begin on this one. ...</td>\n",
       "      <td>0</td>\n",
       "    </tr>\n",
       "    <tr>\n",
       "      <th>49998</th>\n",
       "      <td>Richard Tyler is a little boy who is scared of...</td>\n",
       "      <td>0</td>\n",
       "    </tr>\n",
       "    <tr>\n",
       "      <th>49999</th>\n",
       "      <td>I waited long to watch this movie. Also becaus...</td>\n",
       "      <td>1</td>\n",
       "    </tr>\n",
       "  </tbody>\n",
       "</table>\n",
       "</div>"
      ],
      "text/plain": [
       "                                                  review  sentiment\n",
       "49995  OK, lets start with the best. the building. al...          0\n",
       "49996  The British 'heritage film' industry is out of...          0\n",
       "49997  I don't even know where to begin on this one. ...          0\n",
       "49998  Richard Tyler is a little boy who is scared of...          0\n",
       "49999  I waited long to watch this movie. Also becaus...          1"
      ]
     },
     "execution_count": 1,
     "metadata": {},
     "output_type": "execute_result"
    }
   ],
   "source": [
    "import pandas as pd\n",
    "# if you want to download the original file:\n",
    "#df = pd.read_csv('https://raw.githubusercontent.com/rasbt/pattern_classification/master/data/50k_imdb_movie_reviews.csv')\n",
    "# otherwise load local file\n",
    "df = pd.read_csv('shuffled_movie_data.csv')\n",
    "df.tail()"
   ]
  },
  {
   "cell_type": "markdown",
   "metadata": {},
   "source": [
    "Let us shuffle the class labels."
   ]
  },
  {
   "cell_type": "code",
   "execution_count": 2,
   "metadata": {
    "collapsed": true
   },
   "outputs": [],
   "source": [
    "## uncomment these lines if you have dowloaded the original file:\n",
    "#np.random.seed(0)\n",
    "#df = df.reindex(np.random.permutation(df.index))\n",
    "#df[['review', 'sentiment']].to_csv('shuffled_movie_data.csv', index=False)"
   ]
  },
  {
   "cell_type": "markdown",
   "metadata": {},
   "source": [
    "<br>\n",
    "<br>"
   ]
  },
  {
   "cell_type": "markdown",
   "metadata": {},
   "source": [
    "## Preprocessing Text Data"
   ]
  },
  {
   "cell_type": "markdown",
   "metadata": {},
   "source": [
    "Now, let us define a simple `tokenizer` that splits the text into individual word tokens. Furthermore, we will use some simple regular expression to remove HTML markup and all non-letter characters but \"emoticons,\" convert the text to lower case, remove stopwords, and apply the Porter stemming algorithm to convert the words into their root form."
   ]
  },
  {
   "cell_type": "code",
   "execution_count": 3,
   "metadata": {
    "collapsed": true
   },
   "outputs": [],
   "source": [
    "import numpy as np\n",
    "from nltk.stem.porter import PorterStemmer\n",
    "import re\n",
    "from nltk.corpus import stopwords\n",
    "\n",
    "stop = stopwords.words('english')\n",
    "porter = PorterStemmer()\n",
    "\n",
    "def tokenizer(text):\n",
    "    text = re.sub('<[^>]*>', '', text)\n",
    "    emoticons = re.findall('(?::|;|=)(?:-)?(?:\\)|\\(|D|P)', text.lower())\n",
    "    text = re.sub('[\\W]+', ' ', text.lower()) + ' '.join(emoticons).replace('-', '')\n",
    "    text = [w for w in text.split() if w not in stop]\n",
    "    tokenized = [porter.stem(w) for w in text]\n",
    "    return text\n",
    "\n",
    "## This tokenizer removes stopwords, and other unnecessary stuff, but doesn't use stemming\n",
    "## we will keep our words as they are\n",
    "def tokenizer_we( text ) :\n",
    "    text = re.sub('<[^>]*>', '', text)\n",
    "    emoticons = re.findall('(?::|;|=)(?:-)?(?:\\)|\\(|D|P)', text.lower())\n",
    "    text = re.sub('[\\W]+', ' ', text.lower()) + ' '.join(emoticons).replace('-', '')\n",
    "    text = [w for w in text.split() if w not in stop]\n",
    "    \n",
    "    return text\n",
    "    "
   ]
  },
  {
   "cell_type": "markdown",
   "metadata": {},
   "source": [
    "Let's give it at try:"
   ]
  },
  {
   "cell_type": "code",
   "execution_count": 4,
   "metadata": {},
   "outputs": [
    {
     "data": {
      "text/plain": [
       "['test', ':)', ':)']"
      ]
     },
     "execution_count": 4,
     "metadata": {},
     "output_type": "execute_result"
    }
   ],
   "source": [
    "tokenizer_we('This :) is a <a> test! :-)</br>')"
   ]
  },
  {
   "cell_type": "markdown",
   "metadata": {},
   "source": [
    "## Learning (SciKit)"
   ]
  },
  {
   "cell_type": "markdown",
   "metadata": {},
   "source": [
    "First, we define a generator that returns the document body and the corresponding class label:"
   ]
  },
  {
   "cell_type": "code",
   "execution_count": 5,
   "metadata": {
    "collapsed": true
   },
   "outputs": [],
   "source": [
    "def stream_docs(path):\n",
    "    with open(path, 'r') as csv:\n",
    "        next(csv) # skip header\n",
    "        for line in csv:\n",
    "            text, label = line[:-3], int(line[-2])\n",
    "            yield text, label"
   ]
  },
  {
   "cell_type": "markdown",
   "metadata": {},
   "source": [
    "To conform that the `stream_docs` function fetches the documents as intended, let us execute the following code snippet before we implement the `get_minibatch` function:"
   ]
  },
  {
   "cell_type": "code",
   "execution_count": 6,
   "metadata": {},
   "outputs": [
    {
     "data": {
      "text/plain": [
       "('\"In 1974, the teenager Martha Moxley (Maggie Grace) moves to the high-class area of Belle Haven, Greenwich, Connecticut. On the Mischief Night, eve of Halloween, she was murdered in the backyard of her house and her murder remained unsolved. Twenty-two years later, the writer Mark Fuhrman (Christopher Meloni), who is a former LA detective that has fallen in disgrace for perjury in O.J. Simpson trial and moved to Idaho, decides to investigate the case with his partner Stephen Weeks (Andrew Mitchell) with the purpose of writing a book. The locals squirm and do not welcome them, but with the support of the retired detective Steve Carroll (Robert Forster) that was in charge of the investigation in the 70\\'s, they discover the criminal and a net of power and money to cover the murder.<br /><br />\"\"Murder in Greenwich\"\" is a good TV movie, with the true story of a murder of a fifteen years old girl that was committed by a wealthy teenager whose mother was a Kennedy. The powerful and rich family used their influence to cover the murder for more than twenty years. However, a snoopy detective and convicted perjurer in disgrace was able to disclose how the hideous crime was committed. The screenplay shows the investigation of Mark and the last days of Martha in parallel, but there is a lack of the emotion in the dramatization. My vote is seven.<br /><br />Title (Brazil): Not Available\"',\n",
       " 1)"
      ]
     },
     "execution_count": 6,
     "metadata": {},
     "output_type": "execute_result"
    }
   ],
   "source": [
    "next(stream_docs(path='shuffled_movie_data.csv'))"
   ]
  },
  {
   "cell_type": "markdown",
   "metadata": {},
   "source": [
    "After we confirmed that our `stream_docs` functions works, we will now implement a `get_minibatch` function to fetch a specified number (`size`) of documents:"
   ]
  },
  {
   "cell_type": "code",
   "execution_count": 7,
   "metadata": {
    "collapsed": true
   },
   "outputs": [],
   "source": [
    "def get_minibatch(doc_stream, size):\n",
    "    docs, y = [], []\n",
    "    for _ in range(size):\n",
    "        text, label = next(doc_stream)\n",
    "        docs.append(text)\n",
    "        y.append(label)\n",
    "    return docs, y"
   ]
  },
  {
   "cell_type": "markdown",
   "metadata": {},
   "source": [
    "Next, we will make use of the \"hashing trick\" through scikit-learns [HashingVectorizer](http://scikit-learn.org/stable/modules/generated/sklearn.feature_extraction.text.HashingVectorizer.html) to create a bag-of-words model of our documents. Details of the bag-of-words model for document classification can be found at  [Naive Bayes and Text Classification I - Introduction and Theory](http://arxiv.org/abs/1410.5329)."
   ]
  },
  {
   "cell_type": "code",
   "execution_count": 8,
   "metadata": {
    "collapsed": true
   },
   "outputs": [],
   "source": [
    "from sklearn.feature_extraction.text import HashingVectorizer\n",
    "vect = HashingVectorizer(decode_error='ignore', \n",
    "                         n_features=2**21,\n",
    "                         preprocessor=None, \n",
    "                         tokenizer=tokenizer)\n",
    "\n"
   ]
  },
  {
   "cell_type": "markdown",
   "metadata": {},
   "source": [
    "## Exercise 1: \n",
    "Define features based on word embeddings (pre-trained word2vec vectors can be used). Define suitable d dimension, and sequence length"
   ]
  },
  {
   "cell_type": "markdown",
   "metadata": {},
   "source": [
    "### TRAINING THE EMBEDDING IN OUR CORPUS\n",
    "\n",
    "We use gensim : conda install -c anaconda gensim"
   ]
  },
  {
   "cell_type": "code",
   "execution_count": 9,
   "metadata": {},
   "outputs": [
    {
     "name": "stdout",
     "output_type": "stream",
     "text": [
      "using pretrained embeddings\n"
     ]
    }
   ],
   "source": [
    "\n",
    "# import gensim to train our embeddings\n",
    "import gensim\n",
    "from gensim.models.word2vec import Word2Vec\n",
    "from gensim.models.doc2vec import LabeledSentence\n",
    "\n",
    "## Define parameters\n",
    "EMBEDDINGS_DIM = 300\n",
    "MIN_COUNT = 10\n",
    "MODEL_NAME = 'w2v_model'\n",
    "\n",
    "def labelize( docs, labels, label_type ) :\n",
    "    _labelized = []\n",
    "    _len = len( docs )\n",
    "    \n",
    "    for i in range( _len ) :\n",
    "        _label = '%s_%s' % ( label_type, labels[i] )\n",
    "        _doc_tokenized = tokenizer_we( docs[i] )\n",
    "        _labelized.append( LabeledSentence( _doc_tokenized, [_label] ) )\n",
    "        \n",
    "    return _labelized\n",
    "\n",
    "_docs, _labels = get_minibatch( stream_docs(path='shuffled_movie_data.csv'), 50000 )\n",
    "\n",
    "_sentences = labelize( _docs, _labels, 'TRAIN' )\n",
    "\n",
    "USE_PRETRAINED_EMBEDDINGS = True\n",
    "\n",
    "_model = None\n",
    "\n",
    "if USE_PRETRAINED_EMBEDDINGS :\n",
    "    print( 'using pretrained embeddings' )\n",
    "    _model = Word2Vec.load( MODEL_NAME )\n",
    "else :\n",
    "    print( 'training embeddings' )\n",
    "    _model = Word2Vec( size = EMBEDDINGS_DIM, min_count = MIN_COUNT )\n",
    "    _model.build_vocab( [ _sentence.words for _sentence in _sentences ] )\n",
    "    _model.train( [ _sentence.words for _sentence in _sentences ], \n",
    "                  total_examples = len( _sentences ), \n",
    "                  epochs = _model.iter )\n",
    "    _model.save( MODEL_NAME )\n"
   ]
  },
  {
   "cell_type": "code",
   "execution_count": 10,
   "metadata": {},
   "outputs": [
    {
     "name": "stdout",
     "output_type": "stream",
     "text": [
      "[('decent', 0.739240288734436), ('alright', 0.6402304172515869), ('great', 0.6112497448921204), ('ok', 0.5998105406761169), ('okay', 0.5934993028640747), ('fine', 0.5813044309616089), ('nice', 0.5799181461334229), ('bad', 0.5750390887260437), ('excellent', 0.5701903104782104), ('cool', 0.5602899789810181)]\n"
     ]
    }
   ],
   "source": [
    "## Test the model\n",
    "#print( np.array( _model['good'] ) )\n",
    "print( _model.most_similar( 'good' ) )"
   ]
  },
  {
   "cell_type": "markdown",
   "metadata": {},
   "source": [
    "### Create features from the embeddings\n",
    "\n",
    "Here we just take each word from the document and create a vector from the average of all word embedding vectors"
   ]
  },
  {
   "cell_type": "code",
   "execution_count": 11,
   "metadata": {},
   "outputs": [],
   "source": [
    "## Create the features from the trained embeddings\n",
    "\n",
    "def vectorize( doc, w2vModel ) :\n",
    "    \n",
    "    _doc_tokenized = tokenizer_we( doc )\n",
    "    _docVec = np.zeros( w2vModel.vector_size )\n",
    "    _len = len( _doc_tokenized )\n",
    "    \n",
    "    for _word in _doc_tokenized :\n",
    "        # get the embedding from the model\n",
    "        if _word in w2vModel :\n",
    "            _wvec = np.array( w2vModel[_word] )\n",
    "            # add it to the doc vector\n",
    "            _docVec = _docVec + _wvec\n",
    "        \n",
    "    _docVec = _docVec / _len\n",
    "    \n",
    "    return _docVec\n",
    "\n",
    "#print( vectorize( _docs[1], _model ) )\n",
    "#print( len( _docs ) )"
   ]
  },
  {
   "cell_type": "markdown",
   "metadata": {},
   "source": [
    "Using the [SGDClassifier]() from scikit-learn, we will can instanciate a logistic regression classifier that learns from the documents incrementally using stochastic gradient descent. "
   ]
  },
  {
   "cell_type": "code",
   "execution_count": 12,
   "metadata": {
    "collapsed": true
   },
   "outputs": [],
   "source": [
    "from sklearn.linear_model import SGDClassifier\n",
    "clf = SGDClassifier(loss='log', random_state=1, n_iter=2)\n",
    "doc_stream = stream_docs(path='shuffled_movie_data.csv')\n"
   ]
  },
  {
   "cell_type": "markdown",
   "metadata": {},
   "source": [
    "## Exercise 2 \n",
    "\n",
    "*  Define at least a Three layer neural network. \n",
    "*  Define its structure (number of hidden neurons, etc)\n",
    "*  Define nonlinear function for hidden layers.\n",
    "*  Define a suitbale loss function for binary classification\n",
    "*  Implement the backpropagation algorithm for this structure\n",
    "*  Train the model using SGD"
   ]
  },
  {
   "cell_type": "code",
   "execution_count": 13,
   "metadata": {},
   "outputs": [],
   "source": [
    "## Neural Network impl\n",
    "\n",
    "def sigmoid( v ) :\n",
    "    return 1. / ( 1. + np.exp( -v ) )\n",
    "\n",
    "def d_sigmoid( v ) :\n",
    "    return sigmoid( v ) * ( 1. - sigmoid( v ) )\n",
    "\n",
    "def tanh( v ) :\n",
    "    return np.tanh( v )\n",
    "\n",
    "def d_tanh( v ) :\n",
    "    return 1. - tanh( v ) ** 2\n",
    "\n",
    "def relu( v ) :\n",
    "    return np.where( v > 0, v, 0.001 * v )\n",
    "\n",
    "def d_relu( v ) :\n",
    "    return np.where( v > 0, 1, 0.001 )\n",
    "\n",
    "ACTIVATION_SIGMOID = 'sigmoid'\n",
    "ACTIVATION_TANH    = 'tanh'\n",
    "ACTIVATION_RELU    = 'relu'\n",
    "\n",
    "class LLayer :\n",
    "    \n",
    "    def __init__( self, sIn, sOut, activation = ACTIVATION_SIGMOID ) :\n",
    "        \n",
    "        self.sIn = sIn\n",
    "        self.sOut = sOut\n",
    "        \n",
    "        self.alpha = 0.01\n",
    "        \n",
    "        self.g = sigmoid\n",
    "        self.dg = d_sigmoid\n",
    "        \n",
    "        self.z = np.zeros( ( sOut, 1 ) )\n",
    "        self.a = np.zeros( ( sOut, 1 ) )\n",
    "        self.a_1 = np.zeros( ( sIn, 1 ) )\n",
    "        \n",
    "        if activation == ACTIVATION_TANH :\n",
    "            self.g = tanh\n",
    "            self.dg = d_tanh\n",
    "            print( 'tanh activation chosen' )\n",
    "        elif activation == ACTIVATION_RELU :\n",
    "            self.g = relu\n",
    "            self.dg = d_relu\n",
    "            print( 'relu activation chosen' )\n",
    "        else :\n",
    "            print( 'sigmoid activation chosen' )\n",
    "        \n",
    "        self.W = np.random.rand( sOut, sIn ) * 0.01\n",
    "        self.b = np.random.rand( sOut, 1 ) * 0.01\n",
    "    \n",
    "    def forward( self, a_l_1 ) :\n",
    "        \n",
    "        self.a_1 = a_l_1\n",
    "        self.z = np.dot( self.W, self.a_1 ) + self.b\n",
    "        self.a = self.g( self.z )\n",
    "        \n",
    "        return self.a\n",
    "        \n",
    "    def backprop( self, da_l ) :\n",
    "        #print( 'z: ', self.z )\n",
    "        dz_l = da_l * self.dg( self.z )\n",
    "        #print( 'dz_l: ', dz_l )\n",
    "        dW_l = np.dot( dz_l, self.a_1.T )\n",
    "        db_l = dz_l\n",
    "        da_l_1 = np.dot( self.W.T, dz_l )\n",
    "        \n",
    "        self.W = self.W - self.alpha * dW_l\n",
    "        self.b = self.b - self.alpha * db_l\n",
    "        \n",
    "        #print( 'w,b?' )\n",
    "        #print( self.W )\n",
    "        #print( self.b )\n",
    "        #print( '????' )\n",
    "        \n",
    "        return da_l_1\n",
    "    \n",
    "    \n",
    "    \n",
    "class LNetwork :\n",
    "    \n",
    "    def __init__( self, iDim, oDim, alpha = 0.5, nEpochs = 10 ) :\n",
    "        \n",
    "        self.iDim = iDim\n",
    "        self.oDim = oDim\n",
    "        self.nEpochs = nEpochs\n",
    "        self.alpha = alpha\n",
    "        self.hlayers = []\n",
    "        \n",
    "        self.nlayers = 0\n",
    "        \n",
    "    def addLayer( self, layer ) :\n",
    "        \n",
    "        # check that this layer matches the previous\n",
    "        \n",
    "        if self.nlayers == 0 :\n",
    "            if layer.sIn != self.iDim :\n",
    "                print( 'LNetwork::addLayer> layers mismatch - input layer' )\n",
    "        elif self.hlayers[-1].sOut != layer.sIn :\n",
    "            print( 'LNetwork::addLayer> layers mismatch' )\n",
    "        \n",
    "        self.hlayers.append( layer )\n",
    "        layer.alpha = self.alpha\n",
    "        self.nlayers += 1\n",
    "    \n",
    "    def _trainEpoch( self, X, Y ) :\n",
    "        \n",
    "        _n = X.shape[0]\n",
    "        _m = X.shape[1]\n",
    "        \n",
    "        _cost = 0\n",
    "        \n",
    "        for i in range( _m ) :\n",
    "            \n",
    "            x = np.array( [X[:,i]] ).T\n",
    "            y = Y[i]\n",
    "            \n",
    "            # forward pass\n",
    "            a = x\n",
    "            \n",
    "            for l in range( self.nlayers ) :\n",
    "                a = self.hlayers[l].forward( a )\n",
    "            #print( 'a: ', a )\n",
    "            # compute gradient at output\n",
    "            _cost += -y * np.log( a ) - ( 1 - y ) * np.log( 1 - a )\n",
    "            #print( 'cost: ', _cost )\n",
    "            da = -( y / a ) + ( 1 - y ) / ( 1 - a )\n",
    "            #print( 'da: ', da )\n",
    "            # backpropagate the gradient\n",
    "            for i in range( self.nlayers ) :\n",
    "                da = self.hlayers[self.nlayers - i - 1].backprop( da )\n",
    "        \n",
    "        print( 'cost: ', _cost )\n",
    "    \n",
    "    def train( self, X, Y ) :\n",
    "        print( 'started training' )\n",
    "        _n = X.shape[0]\n",
    "        _m = X.shape[1]\n",
    "        \n",
    "        if _n != self.iDim :\n",
    "            print( 'LNetwork::train> dimension mismatch' )\n",
    "            \n",
    "        for i in range( self.nEpochs ) :\n",
    "            # train given the number of epochs\n",
    "            self._trainEpoch( X, Y )\n",
    "            \n",
    "            print( 'end epoch: ', ( i + 1 ) )\n",
    "            \n",
    "        print( 'done training' )\n",
    "    \n",
    "    def score( self, X, Y ) :\n",
    "        _n = X.shape[0]\n",
    "        _m = X.shape[1]\n",
    "        \n",
    "        if _n != self.iDim :\n",
    "            print( 'LNetwork::score> dimension mismatch' )\n",
    "            \n",
    "        _count = 0\n",
    "        \n",
    "        for i in range( _m ) :\n",
    "            x = np.array( [X[:,i]] ).T\n",
    "            y = Y[i]\n",
    "            \n",
    "            _y = self.predict( x )\n",
    "            \n",
    "            if _y > 0.5 :\n",
    "                _y = 1\n",
    "            else :\n",
    "                _y = 0\n",
    "                \n",
    "            if _y == y :\n",
    "                _count += 1\n",
    "                \n",
    "        return _count / _m\n",
    "    \n",
    "    def predict( self, x ) :\n",
    "        a = x\n",
    "            \n",
    "        for l in range( self.nlayers ) :\n",
    "            a = self.hlayers[l].forward( a )\n",
    "        \n",
    "        \n",
    "        return a\n",
    "\n",
    "    @staticmethod\n",
    "    def saveModel( model, modelname ) :\n",
    "        import joblib\n",
    "\n",
    "        joblib.dump( model, './nnet_' + modelname + '.pkl')\n",
    "        \n",
    "    @staticmethod\n",
    "    def loadModel( modelname ) :        \n",
    "        import joblib\n",
    "        \n",
    "        _model = joblib.load('./nnet_' + modelname + '.pkl')\n",
    "\n",
    "        return _model\n"
   ]
  },
  {
   "cell_type": "markdown",
   "metadata": {},
   "source": [
    "#### Just for testing, train a NN to learn the OR gate"
   ]
  },
  {
   "cell_type": "code",
   "execution_count": 14,
   "metadata": {},
   "outputs": [
    {
     "name": "stdout",
     "output_type": "stream",
     "text": [
      "relu activation chosen\n",
      "sigmoid activation chosen\n",
      "started training\n",
      "cost:  [[ 2.73854732]]\n",
      "end epoch:  1\n",
      "cost:  [[ 2.58519799]]\n",
      "end epoch:  2\n",
      "cost:  [[ 2.61787598]]\n",
      "end epoch:  3\n",
      "cost:  [[ 2.64016894]]\n",
      "end epoch:  4\n",
      "cost:  [[ 2.64818565]]\n",
      "end epoch:  5\n",
      "cost:  [[ 2.64426141]]\n",
      "end epoch:  6\n",
      "cost:  [[ 2.6237359]]\n",
      "end epoch:  7\n",
      "cost:  [[ 2.57148835]]\n",
      "end epoch:  8\n",
      "cost:  [[ 2.4624069]]\n",
      "end epoch:  9\n",
      "cost:  [[ 2.04036251]]\n",
      "end epoch:  10\n",
      "cost:  [[ 2.34297247]]\n",
      "end epoch:  11\n",
      "cost:  [[ 1.40707489]]\n",
      "end epoch:  12\n",
      "cost:  [[ 1.7894413]]\n",
      "end epoch:  13\n",
      "cost:  [[ 0.86652788]]\n",
      "end epoch:  14\n",
      "cost:  [[ 0.9766562]]\n",
      "end epoch:  15\n",
      "cost:  [[ 0.52845325]]\n",
      "end epoch:  16\n",
      "cost:  [[ 0.40127087]]\n",
      "end epoch:  17\n",
      "cost:  [[ 0.31802599]]\n",
      "end epoch:  18\n",
      "cost:  [[ 0.32357093]]\n",
      "end epoch:  19\n",
      "cost:  [[ 0.24415527]]\n",
      "end epoch:  20\n",
      "done training\n"
     ]
    },
    {
     "data": {
      "text/plain": [
       "1.0"
      ]
     },
     "execution_count": 14,
     "metadata": {},
     "output_type": "execute_result"
    }
   ],
   "source": [
    "## testing the nn on the OR gate\n",
    "\n",
    "_l1 = LLayer( 2, 2, ACTIVATION_RELU )\n",
    "_l2 = LLayer( 2, 1 )\n",
    "    \n",
    "_nn = LNetwork( 2, 1, alpha = 1, nEpochs = 20 )\n",
    "_nn.addLayer( _l1 )\n",
    "_nn.addLayer( _l2 )\n",
    "\n",
    "X = np.array( [[0.,0.],[0.,1.],[1.,0.],[1.,1.]] ).T\n",
    "Y = [0., 1., 1., 1.]\n",
    "\n",
    "_nn.train( X, Y )\n",
    "\n",
    "#xtest = np.array( [[0,0]] ).T\n",
    "#ytest = 0\n",
    "\n",
    "#_nn.predict( xtest )\n",
    "_nn.score( X, Y )\n",
    "LNetwork.saveModel( _nn, 'OR_gate' )\n",
    "\n",
    "_foo = LNetwork.loadModel( 'OR_gate' )\n",
    "_foo.score( X, Y )"
   ]
  },
  {
   "cell_type": "code",
   "execution_count": 15,
   "metadata": {
    "collapsed": true
   },
   "outputs": [],
   "source": [
    "\n",
    "## Generating training and test set\n",
    "doc_stream = stream_docs(path='shuffled_movie_data.csv')\n",
    "\n",
    "TOTAL_SIZE = 50000\n",
    "TRAIN_SIZE = 45000\n",
    "TEST_SIZE = TOTAL_SIZE - TRAIN_SIZE\n",
    "\n",
    "_t_docs, _t_labels = get_minibatch( doc_stream, size=TRAIN_SIZE )\n",
    "\n",
    "X_train = np.zeros( ( TRAIN_SIZE, EMBEDDINGS_DIM ) )\n",
    "Y_train = np.array( _t_labels )\n",
    "\n",
    "for i in range( len( _t_docs ) ) :\n",
    "    _docvec = vectorize( _t_docs[i], _model )\n",
    "    X_train[i] = _docvec\n",
    "\n",
    "X_train = X_train.T\n",
    "\n",
    "_t_docs, _t_labels = get_minibatch( doc_stream, size = TEST_SIZE )\n",
    "\n",
    "X_test = np.zeros( ( TEST_SIZE, EMBEDDINGS_DIM ) )\n",
    "Y_test = np.array( _t_labels )\n",
    "\n",
    "for i in range( len( _t_docs ) ) :\n",
    "    _docvec = vectorize( _t_docs[i], _model )\n",
    "    X_test[i] = _docvec\n",
    "\n",
    "X_test = X_test.T"
   ]
  },
  {
   "cell_type": "code",
   "execution_count": 16,
   "metadata": {},
   "outputs": [
    {
     "name": "stdout",
     "output_type": "stream",
     "text": [
      "using pretrained model\n",
      "score in training set:  0.8763555555555556\n",
      "score in test set:  0.8668\n"
     ]
    }
   ],
   "source": [
    "## Defining our nnet arquitecture\n",
    "\n",
    "NET_MODEL_NAME = 'tanh'\n",
    "USE_PRETRAINED_NNET = True\n",
    "\n",
    "_net = None\n",
    "\n",
    "if USE_PRETRAINED_NNET :\n",
    "    print( 'using pretrained model' )\n",
    "    _net = LNetwork.loadModel( NET_MODEL_NAME )\n",
    "else :\n",
    "    print( 'training model ...' )\n",
    "    _layer1 = LLayer( EMBEDDINGS_DIM, 100, LLayer.ACTIVATION_TANH )\n",
    "    _layer2 = LLayer( 100, 150, LLayer.ACTIVATION_TANH )\n",
    "    _layer3 = LLayer( 150, 150, LLayer.ACTIVATION_TANH )\n",
    "    _layer4 = LLayer( 150, 1, LLayer.ACTIVATION_SIGMOID )\n",
    "\n",
    "    _net = LNetwork( EMBEDDINGS_DIM, 1, alpha = 0.025, nEpochs = 50 )\n",
    "    _net.addLayer( _layer1 )\n",
    "    _net.addLayer( _layer2 )\n",
    "    _net.addLayer( _layer3 )\n",
    "    _net.addLayer( _layer4 )\n",
    "\n",
    "    _net.train( X_train, Y_train )\n",
    "    LNetwork.saveModel( _net, NET_MODEL_NAME )\n",
    "    \n",
    "print( 'score in training set: ', _net.score( X_train, Y_train ) )\n",
    "print( 'score in test set: ', _net.score( X_test, Y_test ) )"
   ]
  },
  {
   "cell_type": "markdown",
   "metadata": {},
   "source": [
    "Depending on your machine, it will take about 2-3 minutes to stream the documents and learn the weights for the logistic regression model to classify \"new\" movie reviews. Executing the preceding code, we used the first 45,000 movie reviews to train the classifier, which means that we have 5,000 reviews left for testing:"
   ]
  },
  {
   "cell_type": "code",
   "execution_count": 17,
   "metadata": {},
   "outputs": [
    {
     "name": "stderr",
     "output_type": "stream",
     "text": [
      "0%                          100%\n",
      "[                              ]/home/wilsan/anaconda3/lib/python3.6/site-packages/sklearn/linear_model/stochastic_gradient.py:117: DeprecationWarning: n_iter parameter is deprecated in 0.19 and will be removed in 0.21. Use max_iter and tol instead.\n",
      "  DeprecationWarning)\n",
      "/home/wilsan/anaconda3/lib/python3.6/site-packages/sklearn/linear_model/stochastic_gradient.py:117: DeprecationWarning: n_iter parameter is deprecated in 0.19 and will be removed in 0.21. Use max_iter and tol instead.\n",
      "  DeprecationWarning)\n",
      "[#                             ] | ETA[sec]: 102.478 /home/wilsan/anaconda3/lib/python3.6/site-packages/sklearn/linear_model/stochastic_gradient.py:117: DeprecationWarning: n_iter parameter is deprecated in 0.19 and will be removed in 0.21. Use max_iter and tol instead.\n",
      "  DeprecationWarning)\n",
      "[##                            ] | ETA[sec]: 98.452 /home/wilsan/anaconda3/lib/python3.6/site-packages/sklearn/linear_model/stochastic_gradient.py:117: DeprecationWarning: n_iter parameter is deprecated in 0.19 and will be removed in 0.21. Use max_iter and tol instead.\n",
      "  DeprecationWarning)\n",
      "/home/wilsan/anaconda3/lib/python3.6/site-packages/sklearn/linear_model/stochastic_gradient.py:117: DeprecationWarning: n_iter parameter is deprecated in 0.19 and will be removed in 0.21. Use max_iter and tol instead.\n",
      "  DeprecationWarning)\n",
      "[###                           ] | ETA[sec]: 93.923 /home/wilsan/anaconda3/lib/python3.6/site-packages/sklearn/linear_model/stochastic_gradient.py:117: DeprecationWarning: n_iter parameter is deprecated in 0.19 and will be removed in 0.21. Use max_iter and tol instead.\n",
      "  DeprecationWarning)\n",
      "/home/wilsan/anaconda3/lib/python3.6/site-packages/sklearn/linear_model/stochastic_gradient.py:117: DeprecationWarning: n_iter parameter is deprecated in 0.19 and will be removed in 0.21. Use max_iter and tol instead.\n",
      "  DeprecationWarning)\n",
      "[####                          ] | ETA[sec]: 93.201 /home/wilsan/anaconda3/lib/python3.6/site-packages/sklearn/linear_model/stochastic_gradient.py:117: DeprecationWarning: n_iter parameter is deprecated in 0.19 and will be removed in 0.21. Use max_iter and tol instead.\n",
      "  DeprecationWarning)\n",
      "[#####                         ] | ETA[sec]: 89.960 /home/wilsan/anaconda3/lib/python3.6/site-packages/sklearn/linear_model/stochastic_gradient.py:117: DeprecationWarning: n_iter parameter is deprecated in 0.19 and will be removed in 0.21. Use max_iter and tol instead.\n",
      "  DeprecationWarning)\n",
      "[######                        ] | ETA[sec]: 87.085 /home/wilsan/anaconda3/lib/python3.6/site-packages/sklearn/linear_model/stochastic_gradient.py:117: DeprecationWarning: n_iter parameter is deprecated in 0.19 and will be removed in 0.21. Use max_iter and tol instead.\n",
      "  DeprecationWarning)\n",
      "/home/wilsan/anaconda3/lib/python3.6/site-packages/sklearn/linear_model/stochastic_gradient.py:117: DeprecationWarning: n_iter parameter is deprecated in 0.19 and will be removed in 0.21. Use max_iter and tol instead.\n",
      "  DeprecationWarning)\n",
      "[#######                       ] | ETA[sec]: 81.434 /home/wilsan/anaconda3/lib/python3.6/site-packages/sklearn/linear_model/stochastic_gradient.py:117: DeprecationWarning: n_iter parameter is deprecated in 0.19 and will be removed in 0.21. Use max_iter and tol instead.\n",
      "  DeprecationWarning)\n",
      "[########                      ] | ETA[sec]: 78.460 /home/wilsan/anaconda3/lib/python3.6/site-packages/sklearn/linear_model/stochastic_gradient.py:117: DeprecationWarning: n_iter parameter is deprecated in 0.19 and will be removed in 0.21. Use max_iter and tol instead.\n",
      "  DeprecationWarning)\n",
      "/home/wilsan/anaconda3/lib/python3.6/site-packages/sklearn/linear_model/stochastic_gradient.py:117: DeprecationWarning: n_iter parameter is deprecated in 0.19 and will be removed in 0.21. Use max_iter and tol instead.\n",
      "  DeprecationWarning)\n",
      "[#########                     ] | ETA[sec]: 73.075 /home/wilsan/anaconda3/lib/python3.6/site-packages/sklearn/linear_model/stochastic_gradient.py:117: DeprecationWarning: n_iter parameter is deprecated in 0.19 and will be removed in 0.21. Use max_iter and tol instead.\n",
      "  DeprecationWarning)\n",
      "/home/wilsan/anaconda3/lib/python3.6/site-packages/sklearn/linear_model/stochastic_gradient.py:117: DeprecationWarning: n_iter parameter is deprecated in 0.19 and will be removed in 0.21. Use max_iter and tol instead.\n",
      "  DeprecationWarning)\n",
      "[##########                    ] | ETA[sec]: 68.063 /home/wilsan/anaconda3/lib/python3.6/site-packages/sklearn/linear_model/stochastic_gradient.py:117: DeprecationWarning: n_iter parameter is deprecated in 0.19 and will be removed in 0.21. Use max_iter and tol instead.\n",
      "  DeprecationWarning)\n",
      "[###########                   ] | ETA[sec]: 65.520 /home/wilsan/anaconda3/lib/python3.6/site-packages/sklearn/linear_model/stochastic_gradient.py:117: DeprecationWarning: n_iter parameter is deprecated in 0.19 and will be removed in 0.21. Use max_iter and tol instead.\n",
      "  DeprecationWarning)\n",
      "[############                  ] | ETA[sec]: 62.990 /home/wilsan/anaconda3/lib/python3.6/site-packages/sklearn/linear_model/stochastic_gradient.py:117: DeprecationWarning: n_iter parameter is deprecated in 0.19 and will be removed in 0.21. Use max_iter and tol instead.\n",
      "  DeprecationWarning)\n",
      "/home/wilsan/anaconda3/lib/python3.6/site-packages/sklearn/linear_model/stochastic_gradient.py:117: DeprecationWarning: n_iter parameter is deprecated in 0.19 and will be removed in 0.21. Use max_iter and tol instead.\n",
      "  DeprecationWarning)\n",
      "[#############                 ] | ETA[sec]: 58.044 /home/wilsan/anaconda3/lib/python3.6/site-packages/sklearn/linear_model/stochastic_gradient.py:117: DeprecationWarning: n_iter parameter is deprecated in 0.19 and will be removed in 0.21. Use max_iter and tol instead.\n",
      "  DeprecationWarning)\n",
      "[##############                ] | ETA[sec]: 55.637 /home/wilsan/anaconda3/lib/python3.6/site-packages/sklearn/linear_model/stochastic_gradient.py:117: DeprecationWarning: n_iter parameter is deprecated in 0.19 and will be removed in 0.21. Use max_iter and tol instead.\n",
      "  DeprecationWarning)\n",
      "/home/wilsan/anaconda3/lib/python3.6/site-packages/sklearn/linear_model/stochastic_gradient.py:117: DeprecationWarning: n_iter parameter is deprecated in 0.19 and will be removed in 0.21. Use max_iter and tol instead.\n",
      "  DeprecationWarning)\n",
      "[###############               ] | ETA[sec]: 50.940 /home/wilsan/anaconda3/lib/python3.6/site-packages/sklearn/linear_model/stochastic_gradient.py:117: DeprecationWarning: n_iter parameter is deprecated in 0.19 and will be removed in 0.21. Use max_iter and tol instead.\n",
      "  DeprecationWarning)\n",
      "/home/wilsan/anaconda3/lib/python3.6/site-packages/sklearn/linear_model/stochastic_gradient.py:117: DeprecationWarning: n_iter parameter is deprecated in 0.19 and will be removed in 0.21. Use max_iter and tol instead.\n",
      "  DeprecationWarning)\n",
      "[################              ] | ETA[sec]: 46.360 /home/wilsan/anaconda3/lib/python3.6/site-packages/sklearn/linear_model/stochastic_gradient.py:117: DeprecationWarning: n_iter parameter is deprecated in 0.19 and will be removed in 0.21. Use max_iter and tol instead.\n",
      "  DeprecationWarning)\n",
      "[#################             ] | ETA[sec]: 43.996 /home/wilsan/anaconda3/lib/python3.6/site-packages/sklearn/linear_model/stochastic_gradient.py:117: DeprecationWarning: n_iter parameter is deprecated in 0.19 and will be removed in 0.21. Use max_iter and tol instead.\n",
      "  DeprecationWarning)\n",
      "[##################            ] | ETA[sec]: 41.641 /home/wilsan/anaconda3/lib/python3.6/site-packages/sklearn/linear_model/stochastic_gradient.py:117: DeprecationWarning: n_iter parameter is deprecated in 0.19 and will be removed in 0.21. Use max_iter and tol instead.\n",
      "  DeprecationWarning)\n",
      "/home/wilsan/anaconda3/lib/python3.6/site-packages/sklearn/linear_model/stochastic_gradient.py:117: DeprecationWarning: n_iter parameter is deprecated in 0.19 and will be removed in 0.21. Use max_iter and tol instead.\n",
      "  DeprecationWarning)\n",
      "[###################           ] | ETA[sec]: 36.900 /home/wilsan/anaconda3/lib/python3.6/site-packages/sklearn/linear_model/stochastic_gradient.py:117: DeprecationWarning: n_iter parameter is deprecated in 0.19 and will be removed in 0.21. Use max_iter and tol instead.\n",
      "  DeprecationWarning)\n"
     ]
    },
    {
     "name": "stderr",
     "output_type": "stream",
     "text": [
      "[####################          ] | ETA[sec]: 34.555 /home/wilsan/anaconda3/lib/python3.6/site-packages/sklearn/linear_model/stochastic_gradient.py:117: DeprecationWarning: n_iter parameter is deprecated in 0.19 and will be removed in 0.21. Use max_iter and tol instead.\n",
      "  DeprecationWarning)\n",
      "/home/wilsan/anaconda3/lib/python3.6/site-packages/sklearn/linear_model/stochastic_gradient.py:117: DeprecationWarning: n_iter parameter is deprecated in 0.19 and will be removed in 0.21. Use max_iter and tol instead.\n",
      "  DeprecationWarning)\n",
      "[#####################         ] | ETA[sec]: 29.963 /home/wilsan/anaconda3/lib/python3.6/site-packages/sklearn/linear_model/stochastic_gradient.py:117: DeprecationWarning: n_iter parameter is deprecated in 0.19 and will be removed in 0.21. Use max_iter and tol instead.\n",
      "  DeprecationWarning)\n",
      "/home/wilsan/anaconda3/lib/python3.6/site-packages/sklearn/linear_model/stochastic_gradient.py:117: DeprecationWarning: n_iter parameter is deprecated in 0.19 and will be removed in 0.21. Use max_iter and tol instead.\n",
      "  DeprecationWarning)\n",
      "[######################        ] | ETA[sec]: 25.324 /home/wilsan/anaconda3/lib/python3.6/site-packages/sklearn/linear_model/stochastic_gradient.py:117: DeprecationWarning: n_iter parameter is deprecated in 0.19 and will be removed in 0.21. Use max_iter and tol instead.\n",
      "  DeprecationWarning)\n",
      "[#######################       ] | ETA[sec]: 23.017 /home/wilsan/anaconda3/lib/python3.6/site-packages/sklearn/linear_model/stochastic_gradient.py:117: DeprecationWarning: n_iter parameter is deprecated in 0.19 and will be removed in 0.21. Use max_iter and tol instead.\n",
      "  DeprecationWarning)\n",
      "[########################      ] | ETA[sec]: 20.707 /home/wilsan/anaconda3/lib/python3.6/site-packages/sklearn/linear_model/stochastic_gradient.py:117: DeprecationWarning: n_iter parameter is deprecated in 0.19 and will be removed in 0.21. Use max_iter and tol instead.\n",
      "  DeprecationWarning)\n",
      "/home/wilsan/anaconda3/lib/python3.6/site-packages/sklearn/linear_model/stochastic_gradient.py:117: DeprecationWarning: n_iter parameter is deprecated in 0.19 and will be removed in 0.21. Use max_iter and tol instead.\n",
      "  DeprecationWarning)\n",
      "[#########################     ] | ETA[sec]: 16.066 /home/wilsan/anaconda3/lib/python3.6/site-packages/sklearn/linear_model/stochastic_gradient.py:117: DeprecationWarning: n_iter parameter is deprecated in 0.19 and will be removed in 0.21. Use max_iter and tol instead.\n",
      "  DeprecationWarning)\n",
      "[##########################    ] | ETA[sec]: 13.773 /home/wilsan/anaconda3/lib/python3.6/site-packages/sklearn/linear_model/stochastic_gradient.py:117: DeprecationWarning: n_iter parameter is deprecated in 0.19 and will be removed in 0.21. Use max_iter and tol instead.\n",
      "  DeprecationWarning)\n",
      "/home/wilsan/anaconda3/lib/python3.6/site-packages/sklearn/linear_model/stochastic_gradient.py:117: DeprecationWarning: n_iter parameter is deprecated in 0.19 and will be removed in 0.21. Use max_iter and tol instead.\n",
      "  DeprecationWarning)\n",
      "[###########################   ] | ETA[sec]: 9.178 /home/wilsan/anaconda3/lib/python3.6/site-packages/sklearn/linear_model/stochastic_gradient.py:117: DeprecationWarning: n_iter parameter is deprecated in 0.19 and will be removed in 0.21. Use max_iter and tol instead.\n",
      "  DeprecationWarning)\n",
      "/home/wilsan/anaconda3/lib/python3.6/site-packages/sklearn/linear_model/stochastic_gradient.py:117: DeprecationWarning: n_iter parameter is deprecated in 0.19 and will be removed in 0.21. Use max_iter and tol instead.\n",
      "  DeprecationWarning)\n",
      "[############################  ] | ETA[sec]: 4.585 /home/wilsan/anaconda3/lib/python3.6/site-packages/sklearn/linear_model/stochastic_gradient.py:117: DeprecationWarning: n_iter parameter is deprecated in 0.19 and will be removed in 0.21. Use max_iter and tol instead.\n",
      "  DeprecationWarning)\n",
      "[############################# ] | ETA[sec]: 2.293 /home/wilsan/anaconda3/lib/python3.6/site-packages/sklearn/linear_model/stochastic_gradient.py:117: DeprecationWarning: n_iter parameter is deprecated in 0.19 and will be removed in 0.21. Use max_iter and tol instead.\n",
      "  DeprecationWarning)\n",
      "[##############################]\n",
      "Total time elapsed: 103.082 sec\n"
     ]
    },
    {
     "name": "stdout",
     "output_type": "stream",
     "text": [
      "Accuracy in training set: 0.867\n"
     ]
    }
   ],
   "source": [
    "import pyprind\n",
    "pbar = pyprind.ProgBar( 45 )\n",
    "\n",
    "doc_stream = stream_docs(path='shuffled_movie_data.csv')\n",
    "classes = np.array([0, 1])\n",
    "\n",
    "for _ in range(45):\n",
    "    X_train, y_train = get_minibatch(doc_stream, size=1000)\n",
    "    X_train = vect.fit_transform(X_train)\n",
    "    clf.partial_fit(X_train, y_train, classes=classes)\n",
    "    pbar.update()\n",
    "\n",
    "X_test, y_test = get_minibatch(doc_stream, size=5000)\n",
    "X_test = vect.transform(X_test)\n",
    "    \n",
    "print( 'Accuracy in training set: %.3f' % clf.score( X_test, Y_test ) )"
   ]
  },
  {
   "cell_type": "markdown",
   "metadata": {},
   "source": [
    "## Exercise 3 \n",
    "\n",
    "Compare  with your Neural Network\n",
    "\n",
    "* Logistic regression        -> 0.8670\n",
    "* Neural network - 50 epochs -> 0.8668"
   ]
  },
  {
   "cell_type": "markdown",
   "metadata": {},
   "source": [
    "I think that the predictive performance, an accuracy of ~87%, is quite \"reasonable\" given that we \"only\" used the default parameters and didn't do any hyperparameter optimization. \n",
    "\n",
    "After we estimated the model perfomance, let us use those last 5,000 test samples to update our model."
   ]
  },
  {
   "cell_type": "code",
   "execution_count": 18,
   "metadata": {},
   "outputs": [
    {
     "name": "stderr",
     "output_type": "stream",
     "text": [
      "/home/wilsan/anaconda3/lib/python3.6/site-packages/sklearn/linear_model/stochastic_gradient.py:117: DeprecationWarning: n_iter parameter is deprecated in 0.19 and will be removed in 0.21. Use max_iter and tol instead.\n",
      "  DeprecationWarning)\n"
     ]
    }
   ],
   "source": [
    "clf = clf.partial_fit(X_test, y_test)"
   ]
  },
  {
   "cell_type": "markdown",
   "metadata": {},
   "source": [
    "<br>\n",
    "<br>"
   ]
  },
  {
   "cell_type": "markdown",
   "metadata": {
    "collapsed": true
   },
   "source": [
    "# Model Persistence"
   ]
  },
  {
   "cell_type": "markdown",
   "metadata": {},
   "source": [
    "In the previous section, we successfully trained a model to predict the sentiment of a movie review. Unfortunately, if we'd close this IPython notebook at this point, we'd have to go through the whole learning process again and again if we'd want to make a prediction on \"new data.\"\n",
    "\n",
    "So, to reuse this model, we could use the [`pickle`](https://docs.python.org/3.5/library/pickle.html) module to \"serialize a Python object structure\". Or even better, we could use the [`joblib`](https://pypi.python.org/pypi/joblib) library, which handles large NumPy arrays more efficiently.\n",
    "\n",
    "To install:\n",
    "conda install -c anaconda joblib"
   ]
  },
  {
   "cell_type": "code",
   "execution_count": 19,
   "metadata": {},
   "outputs": [
    {
     "data": {
      "text/plain": [
       "['./clf.pkl']"
      ]
     },
     "execution_count": 19,
     "metadata": {},
     "output_type": "execute_result"
    }
   ],
   "source": [
    "import joblib\n",
    "import os\n",
    "if not os.path.exists('./pkl_objects'):\n",
    "    os.mkdir('./pkl_objects')\n",
    "    \n",
    "joblib.dump(vect, './vectorizer.pkl')\n",
    "joblib.dump(clf, './clf.pkl')"
   ]
  },
  {
   "cell_type": "markdown",
   "metadata": {},
   "source": [
    "Using the code above, we \"pickled\" the `HashingVectorizer` and the `SGDClassifier` so that we can re-use those objects later. However, `pickle` and `joblib` have a known issue with `pickling` objects or functions from a `__main__` block and we'd get an `AttributeError: Can't get attribute [x] on <module '__main__'>` if we'd unpickle it later. Thus, to pickle the `tokenizer` function, we can write it to a file and import it to get the `namespace` \"right\"."
   ]
  },
  {
   "cell_type": "code",
   "execution_count": 20,
   "metadata": {},
   "outputs": [
    {
     "name": "stdout",
     "output_type": "stream",
     "text": [
      "Overwriting tokenizer.py\n"
     ]
    }
   ],
   "source": [
    "%%writefile tokenizer.py\n",
    "from nltk.stem.porter import PorterStemmer\n",
    "import re\n",
    "from nltk.corpus import stopwords\n",
    "\n",
    "stop = stopwords.words('english')\n",
    "porter = PorterStemmer()\n",
    "\n",
    "def tokenizer(text):\n",
    "    text = re.sub('<[^>]*>', '', text)\n",
    "    emoticons = re.findall('(?::|;|=)(?:-)?(?:\\)|\\(|D|P)', text.lower())\n",
    "    text = re.sub('[\\W]+', ' ', text.lower()) + ' '.join(emoticons).replace('-', '')\n",
    "    text = [w for w in text.split() if w not in stop]\n",
    "    tokenized = [porter.stem(w) for w in text]\n",
    "    return text"
   ]
  },
  {
   "cell_type": "code",
   "execution_count": 21,
   "metadata": {},
   "outputs": [
    {
     "data": {
      "text/plain": [
       "['./tokenizer.pkl']"
      ]
     },
     "execution_count": 21,
     "metadata": {},
     "output_type": "execute_result"
    }
   ],
   "source": [
    "from tokenizer import tokenizer\n",
    "joblib.dump(tokenizer, './tokenizer.pkl')"
   ]
  },
  {
   "cell_type": "markdown",
   "metadata": {},
   "source": [
    "Now, let us restart this IPython notebook and check if the we can load our serialized objects:"
   ]
  },
  {
   "cell_type": "code",
   "execution_count": 22,
   "metadata": {
    "collapsed": true
   },
   "outputs": [],
   "source": [
    "import joblib\n",
    "tokenizer = joblib.load('./tokenizer.pkl')\n",
    "vect = joblib.load('./vectorizer.pkl')\n",
    "clf = joblib.load('./clf.pkl')"
   ]
  },
  {
   "cell_type": "markdown",
   "metadata": {},
   "source": [
    "After loading the `tokenizer`, `HashingVectorizer`, and the tranined logistic regression model, we can use it to make predictions on new data, which can be useful, for example, if we'd want to embed our classifier into a web application -- a topic for another IPython notebook."
   ]
  },
  {
   "cell_type": "code",
   "execution_count": 23,
   "metadata": {},
   "outputs": [
    {
     "data": {
      "text/plain": [
       "array([0])"
      ]
     },
     "execution_count": 23,
     "metadata": {},
     "output_type": "execute_result"
    }
   ],
   "source": [
    "example = ['I did not like this movie']\n",
    "X = vect.transform(example)\n",
    "clf.predict(X)"
   ]
  },
  {
   "cell_type": "code",
   "execution_count": 24,
   "metadata": {},
   "outputs": [
    {
     "data": {
      "text/plain": [
       "array([1])"
      ]
     },
     "execution_count": 24,
     "metadata": {},
     "output_type": "execute_result"
    }
   ],
   "source": [
    "example = ['I loved this movie']\n",
    "X = vect.transform(example)\n",
    "clf.predict(X)"
   ]
  },
  {
   "cell_type": "code",
   "execution_count": null,
   "metadata": {
    "collapsed": true
   },
   "outputs": [],
   "source": []
  }
 ],
 "metadata": {
  "kernelspec": {
   "display_name": "Python 3",
   "language": "python",
   "name": "python3"
  },
  "language_info": {
   "codemirror_mode": {
    "name": "ipython",
    "version": 3
   },
   "file_extension": ".py",
   "mimetype": "text/x-python",
   "name": "python",
   "nbconvert_exporter": "python",
   "pygments_lexer": "ipython3",
   "version": "3.6.3"
  }
 },
 "nbformat": 4,
 "nbformat_minor": 1
}
